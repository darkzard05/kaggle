{
  "cells": [
    {
      "cell_type": "code",
      "execution_count": 94,
      "metadata": {},
      "outputs": [],
      "source": [
        "# Kaggle 타이타닉 문제는 타이타닉의 승객 중에 생존 유무를 예측하는 것이다.\n",
        "# 아래의 코드는 https://www.kaggle.com/startupsci/titanic-data-science-solutions 를 참고해서 작성하였다."
      ]
    },
    {
      "cell_type": "code",
      "execution_count": 95,
      "metadata": {},
      "outputs": [],
      "source": [
        "# Numpy, Pandas 불러오기\n",
        "import numpy as np\n",
        "import pandas as pd\n",
        "\n",
        "# 시각화 라이브러리 불러오기\n",
        "import matplotlib.pyplot as plt\n",
        "import seaborn as sns\n",
        "\n",
        "# Scikit-learn 머신러닝 라이브러리 불러오기\n",
        "from sklearn.linear_model import LogisticRegression\n",
        "from sklearn.svm import SVC, LinearSVC\n",
        "from sklearn.ensemble import RandomForestClassifier\n",
        "from sklearn.ensemble import GradientBoostingClassifier\n",
        "from sklearn.ensemble import AdaBoostClassifier\n",
        "from sklearn.neighbors import KNeighborsClassifier\n",
        "from sklearn.naive_bayes import GaussianNB\n",
        "from sklearn.linear_model import Perceptron\n",
        "from sklearn.linear_model import SGDClassifier\n",
        "from sklearn.tree import DecisionTreeClassifier\n",
        "from sklearn.neural_network import MLPClassifier\n",
        "from sklearn.model_selection import cross_val_score, KFold\n",
        "from sklearn.model_selection import GridSearchCV, RandomizedSearchCV\n",
        "from sklearn.preprocessing import MinMaxScaler\n",
        "from xgboost import XGBClassifier"
      ]
    },
    {
      "cell_type": "code",
      "execution_count": 96,
      "metadata": {},
      "outputs": [],
      "source": [
        "# 데이터 불러오기\n",
        "train = pd.read_csv('/python/titanic/train.csv')\n",
        "test = pd.read_csv('/python/titanic/test.csv')\n",
        "total = [train, test]"
      ]
    },
    {
      "cell_type": "code",
      "execution_count": 97,
      "metadata": {},
      "outputs": [
        {
          "output_type": "stream",
          "name": "stdout",
          "text": [
            "       PassengerId    Survived      Pclass         Age       SibSp  \\\ncount   891.000000  891.000000  891.000000  714.000000  891.000000   \nmean    446.000000    0.383838    2.308642   29.699118    0.523008   \nstd     257.353842    0.486592    0.836071   14.526497    1.102743   \nmin       1.000000    0.000000    1.000000    0.420000    0.000000   \n25%     223.500000    0.000000    2.000000   20.125000    0.000000   \n50%     446.000000    0.000000    3.000000   28.000000    0.000000   \n75%     668.500000    1.000000    3.000000   38.000000    1.000000   \nmax     891.000000    1.000000    3.000000   80.000000    8.000000   \n\n            Parch        Fare  \ncount  891.000000  891.000000  \nmean     0.381594   32.204208  \nstd      0.806057   49.693429  \nmin      0.000000    0.000000  \n25%      0.000000    7.910400  \n50%      0.000000   14.454200  \n75%      0.000000   31.000000  \nmax      6.000000  512.329200  \n--------------------\n       PassengerId      Pclass         Age       SibSp       Parch        Fare\ncount   418.000000  418.000000  332.000000  418.000000  418.000000  417.000000\nmean   1100.500000    2.265550   30.272590    0.447368    0.392344   35.627188\nstd     120.810458    0.841838   14.181209    0.896760    0.981429   55.907576\nmin     892.000000    1.000000    0.170000    0.000000    0.000000    0.000000\n25%     996.250000    1.000000   21.000000    0.000000    0.000000    7.895800\n50%    1100.500000    3.000000   27.000000    0.000000    0.000000   14.454200\n75%    1204.750000    3.000000   39.000000    1.000000    0.000000   31.500000\nmax    1309.000000    3.000000   76.000000    8.000000    9.000000  512.329200\n"
          ]
        }
      ],
      "source": [
        "# 데이터 요약\n",
        "print(train.describe())\n",
        "print('-'*20)\n",
        "print(test.describe())"
      ]
    },
    {
      "cell_type": "code",
      "execution_count": 98,
      "metadata": {},
      "outputs": [
        {
          "output_type": "stream",
          "name": "stdout",
          "text": [
            "PassengerId      0\nSurvived         0\nPclass           0\nName             0\nSex              0\nAge            177\nSibSp            0\nParch            0\nTicket           0\nFare             0\nCabin          687\nEmbarked         2\ndtype: int64\n--------------------\nPassengerId      0\nPclass           0\nName             0\nSex              0\nAge             86\nSibSp            0\nParch            0\nTicket           0\nFare             1\nCabin          327\nEmbarked         0\ndtype: int64\n"
          ]
        }
      ],
      "source": [
        "# Training, Test 세트의 결측치 확인하기\n",
        "# Age, Cabin, Fare, Embarked에서 결측치가 있다.\n",
        "print(train.isnull().sum())\n",
        "print('-'*20)\n",
        "print(test.isnull().sum())"
      ]
    },
    {
      "cell_type": "code",
      "execution_count": 99,
      "metadata": {},
      "outputs": [
        {
          "output_type": "stream",
          "name": "stdout",
          "text": [
            "   SibSp  Survived\n1      1  0.535885\n2      2  0.464286\n0      0  0.345395\n3      3  0.250000\n4      4  0.166667\n5      5  0.000000\n6      8  0.000000\n--------------------\n   Parch  Survived\n3      3  0.600000\n1      1  0.550847\n2      2  0.500000\n0      0  0.343658\n5      5  0.200000\n4      4  0.000000\n6      6  0.000000\n--------------------\n   Pclass  Survived\n0       1  0.629630\n1       2  0.472826\n2       3  0.242363\n--------------------\n      Sex  Survived\n0  female  0.742038\n1    male  0.188908\n"
          ]
        }
      ],
      "source": [
        "# 카테고리형 특성들의 생존율과의 연관성을 살펴본다.\n",
        "# 여기서 알수 있는 것은 여성의 생존율이 높고,\n",
        "# 선실등급이 높을수록 생존율이 높다는 것이다.\n",
        "print(train[['SibSp', 'Survived']].groupby(['SibSp'], as_index=False).mean().sort_values(by='Survived', ascending=False))\n",
        "print('-'*20)\n",
        "print(train[['Parch', 'Survived']].groupby(['Parch'], as_index=False).mean().sort_values(by='Survived', ascending=False))\n",
        "print('-'*20)\n",
        "print(train[['Pclass', 'Survived']].groupby(['Pclass'], as_index=False).mean().sort_values(by='Survived', ascending=False))\n",
        "print('-'*20)\n",
        "print(train[['Sex', 'Survived']].groupby(['Sex'], as_index=False).mean().sort_values(by='Survived', ascending=False))"
      ]
    },
    {
      "cell_type": "code",
      "execution_count": 100,
      "metadata": {},
      "outputs": [
        {
          "output_type": "stream",
          "name": "stdout",
          "text": [
            "347082      7\n1601        7\nCA. 2343    7\n347088      6\nCA 2144     6\n           ..\n239856      1\n342826      1\n11813       1\n11752       1\n28134       1\nName: Ticket, Length: 681, dtype: int64\n"
          ]
        }
      ],
      "source": [
        "# Ticket에서는 유의미한 특성을 찾아내지 못해서 Ticket을 제거합니다.\n",
        "print(train['Ticket'].value_counts())\n",
        "\n",
        "for data in total:\n",
        "    data.drop(['Ticket'], axis=1, inplace=True)"
      ]
    },
    {
      "cell_type": "code",
      "execution_count": 101,
      "metadata": {},
      "outputs": [
        {
          "output_type": "stream",
          "name": "stdout",
          "text": [
            "G6             4\nC23 C25 C27    4\nB96 B98        4\nE101           3\nD              3\n              ..\nA23            1\nA20            1\nA5             1\nC30            1\nD10 D12        1\nName: Cabin, Length: 147, dtype: int64\n"
          ]
        }
      ],
      "source": [
        "print(train['Cabin'].value_counts())\n",
        "\n",
        "# Cabin은 중요한 특성이 될것 같지만 결측치가 너무 많아서 제거한다.\n",
        "for data in total:\n",
        "    data.drop(['Cabin'], axis=1, inplace=True)\n",
        "\n",
        "# for data in total:\n",
        "#     data['Cabin'] = data['Cabin'].str[:1]\n",
        "#     data['Cabin'] = data['Cabin'].map({'A': 0, 'B': 1, 'C': 2, 'D': 3, 'E': 4, 'F': 5, 'G': 6, 'T': 7})\n",
        "#     data['Cabin'].fillna(data.groupby('Pclass')['Cabin'].transform('median'), inplace=True)"
      ]
    },
    {
      "cell_type": "code",
      "execution_count": 102,
      "metadata": {},
      "outputs": [
        {
          "output_type": "display_data",
          "data": {
            "text/plain": "<Figure size 432x288 with 1 Axes>",
            "image/svg+xml": "<?xml version=\"1.0\" encoding=\"utf-8\" standalone=\"no\"?>\r\n<!DOCTYPE svg PUBLIC \"-//W3C//DTD SVG 1.1//EN\"\r\n  \"http://www.w3.org/Graphics/SVG/1.1/DTD/svg11.dtd\">\r\n<!-- Created with matplotlib (https://matplotlib.org/) -->\r\n<svg height=\"262.19625pt\" version=\"1.1\" viewBox=\"0 0 401.094347 262.19625\" width=\"401.094347pt\" xmlns=\"http://www.w3.org/2000/svg\" xmlns:xlink=\"http://www.w3.org/1999/xlink\">\r\n <metadata>\r\n  <rdf:RDF xmlns:cc=\"http://creativecommons.org/ns#\" xmlns:dc=\"http://purl.org/dc/elements/1.1/\" xmlns:rdf=\"http://www.w3.org/1999/02/22-rdf-syntax-ns#\">\r\n   <cc:Work>\r\n    <dc:type rdf:resource=\"http://purl.org/dc/dcmitype/StillImage\"/>\r\n    <dc:date>2021-04-29T21:44:37.652811</dc:date>\r\n    <dc:format>image/svg+xml</dc:format>\r\n    <dc:creator>\r\n     <cc:Agent>\r\n      <dc:title>Matplotlib v3.3.3, https://matplotlib.org/</dc:title>\r\n     </cc:Agent>\r\n    </dc:creator>\r\n   </cc:Work>\r\n  </rdf:RDF>\r\n </metadata>\r\n <defs>\r\n  <style type=\"text/css\">*{stroke-linecap:butt;stroke-linejoin:round;}</style>\r\n </defs>\r\n <g id=\"figure_1\">\r\n  <g id=\"patch_1\">\r\n   <path d=\"M -0 262.19625 \r\nL 401.094347 262.19625 \r\nL 401.094347 0 \r\nL -0 0 \r\nz\r\n\" style=\"fill:none;\"/>\r\n  </g>\r\n  <g id=\"axes_1\">\r\n   <g id=\"patch_2\">\r\n    <path d=\"M 46.965625 224.64 \r\nL 381.765625 224.64 \r\nL 381.765625 7.2 \r\nL 46.965625 7.2 \r\nz\r\n\" style=\"fill:#ffffff;\"/>\r\n   </g>\r\n   <g id=\"patch_3\">\r\n    <path clip-path=\"url(#pb4fc6709b7)\" d=\"M 48.935037 224.64 \r\nL 56.812684 224.64 \r\nL 56.812684 17.554286 \r\nL 48.935037 17.554286 \r\nz\r\n\" style=\"fill:#3274a1;\"/>\r\n   </g>\r\n   <g id=\"patch_4\">\r\n    <path clip-path=\"url(#pb4fc6709b7)\" d=\"M 68.629154 224.64 \r\nL 76.506801 224.64 \r\nL 76.506801 212.290852 \r\nL 68.629154 212.290852 \r\nz\r\n\" style=\"fill:#3274a1;\"/>\r\n   </g>\r\n   <g id=\"patch_5\">\r\n    <path clip-path=\"url(#pb4fc6709b7)\" d=\"M 88.323272 224.64 \r\nL 96.200919 224.64 \r\nL 96.200919 198.516802 \r\nL 88.323272 198.516802 \r\nz\r\n\" style=\"fill:#3274a1;\"/>\r\n   </g>\r\n   <g id=\"patch_6\">\r\n    <path clip-path=\"url(#pb4fc6709b7)\" d=\"M 108.01739 224.64 \r\nL 115.895037 224.64 \r\nL 115.895037 216.565557 \r\nL 108.01739 216.565557 \r\nz\r\n\" style=\"fill:#3274a1;\"/>\r\n   </g>\r\n   <g id=\"patch_7\">\r\n    <path clip-path=\"url(#pb4fc6709b7)\" d=\"M 127.711507 224.64 \r\nL 135.589154 224.64 \r\nL 135.589154 224.165033 \r\nL 127.711507 224.165033 \r\nz\r\n\" style=\"fill:#3274a1;\"/>\r\n   </g>\r\n   <g id=\"patch_8\">\r\n    <path clip-path=\"url(#pb4fc6709b7)\" d=\"M 147.405625 224.64 \r\nL 155.283272 224.64 \r\nL 155.283272 221.790197 \r\nL 147.405625 221.790197 \r\nz\r\n\" style=\"fill:#3274a1;\"/>\r\n   </g>\r\n   <g id=\"patch_9\">\r\n    <path clip-path=\"url(#pb4fc6709b7)\" d=\"M 167.099743 224.64 \r\nL 174.97739 224.64 \r\nL 174.97739 222.740131 \r\nL 167.099743 222.740131 \r\nz\r\n\" style=\"fill:#3274a1;\"/>\r\n   </g>\r\n   <g id=\"patch_10\">\r\n    <path clip-path=\"url(#pb4fc6709b7)\" d=\"M 0 0 \r\nz\r\n\" style=\"fill:#3274a1;\"/>\r\n   </g>\r\n   <g id=\"patch_11\">\r\n    <path clip-path=\"url(#pb4fc6709b7)\" d=\"M 0 0 \r\nz\r\n\" style=\"fill:#3274a1;\"/>\r\n   </g>\r\n   <g id=\"patch_12\">\r\n    <path clip-path=\"url(#pb4fc6709b7)\" d=\"M 226.182096 224.64 \r\nL 234.059743 224.64 \r\nL 234.059743 224.165033 \r\nL 226.182096 224.165033 \r\nz\r\n\" style=\"fill:#3274a1;\"/>\r\n   </g>\r\n   <g id=\"patch_13\">\r\n    <path clip-path=\"url(#pb4fc6709b7)\" d=\"M 0 0 \r\nz\r\n\" style=\"fill:#3274a1;\"/>\r\n   </g>\r\n   <g id=\"patch_14\">\r\n    <path clip-path=\"url(#pb4fc6709b7)\" d=\"M 0 0 \r\nz\r\n\" style=\"fill:#3274a1;\"/>\r\n   </g>\r\n   <g id=\"patch_15\">\r\n    <path clip-path=\"url(#pb4fc6709b7)\" d=\"M 0 0 \r\nz\r\n\" style=\"fill:#3274a1;\"/>\r\n   </g>\r\n   <g id=\"patch_16\">\r\n    <path clip-path=\"url(#pb4fc6709b7)\" d=\"M 304.958566 224.64 \r\nL 312.836213 224.64 \r\nL 312.836213 224.165033 \r\nL 304.958566 224.165033 \r\nz\r\n\" style=\"fill:#3274a1;\"/>\r\n   </g>\r\n   <g id=\"patch_17\">\r\n    <path clip-path=\"url(#pb4fc6709b7)\" d=\"M 324.652684 224.64 \r\nL 332.530331 224.64 \r\nL 332.530331 224.165033 \r\nL 324.652684 224.165033 \r\nz\r\n\" style=\"fill:#3274a1;\"/>\r\n   </g>\r\n   <g id=\"patch_18\">\r\n    <path clip-path=\"url(#pb4fc6709b7)\" d=\"M 0 0 \r\nz\r\n\" style=\"fill:#3274a1;\"/>\r\n   </g>\r\n   <g id=\"patch_19\">\r\n    <path clip-path=\"url(#pb4fc6709b7)\" d=\"M 364.040919 224.64 \r\nL 371.918566 224.64 \r\nL 371.918566 224.165033 \r\nL 364.040919 224.165033 \r\nz\r\n\" style=\"fill:#3274a1;\"/>\r\n   </g>\r\n   <g id=\"patch_20\">\r\n    <path clip-path=\"url(#pb4fc6709b7)\" d=\"M 56.812684 224.64 \r\nL 64.690331 224.64 \r\nL 64.690331 186.167654 \r\nL 56.812684 186.167654 \r\nz\r\n\" style=\"fill:#e1812c;\"/>\r\n   </g>\r\n   <g id=\"patch_21\">\r\n    <path clip-path=\"url(#pb4fc6709b7)\" d=\"M 76.506801 224.64 \r\nL 84.384449 224.64 \r\nL 84.384449 177.618244 \r\nL 76.506801 177.618244 \r\nz\r\n\" style=\"fill:#e1812c;\"/>\r\n   </g>\r\n   <g id=\"patch_22\">\r\n    <path clip-path=\"url(#pb4fc6709b7)\" d=\"M 96.200919 224.64 \r\nL 104.078566 224.64 \r\nL 104.078566 164.319161 \r\nL 96.200919 164.319161 \r\nz\r\n\" style=\"fill:#e1812c;\"/>\r\n   </g>\r\n   <g id=\"patch_23\">\r\n    <path clip-path=\"url(#pb4fc6709b7)\" d=\"M 115.895037 224.64 \r\nL 123.772684 224.64 \r\nL 123.772684 213.715754 \r\nL 115.895037 213.715754 \r\nz\r\n\" style=\"fill:#e1812c;\"/>\r\n   </g>\r\n   <g id=\"patch_24\">\r\n    <path clip-path=\"url(#pb4fc6709b7)\" d=\"M 0 0 \r\nz\r\n\" style=\"fill:#e1812c;\"/>\r\n   </g>\r\n   <g id=\"patch_25\">\r\n    <path clip-path=\"url(#pb4fc6709b7)\" d=\"M 0 0 \r\nz\r\n\" style=\"fill:#e1812c;\"/>\r\n   </g>\r\n   <g id=\"patch_26\">\r\n    <path clip-path=\"url(#pb4fc6709b7)\" d=\"M 174.97739 224.64 \r\nL 182.855037 224.64 \r\nL 182.855037 223.215098 \r\nL 174.97739 223.215098 \r\nz\r\n\" style=\"fill:#e1812c;\"/>\r\n   </g>\r\n   <g id=\"patch_27\">\r\n    <path clip-path=\"url(#pb4fc6709b7)\" d=\"M 194.671507 224.64 \r\nL 202.549154 224.64 \r\nL 202.549154 224.165033 \r\nL 194.671507 224.165033 \r\nz\r\n\" style=\"fill:#e1812c;\"/>\r\n   </g>\r\n   <g id=\"patch_28\">\r\n    <path clip-path=\"url(#pb4fc6709b7)\" d=\"M 214.365625 224.64 \r\nL 222.243272 224.64 \r\nL 222.243272 224.165033 \r\nL 214.365625 224.165033 \r\nz\r\n\" style=\"fill:#e1812c;\"/>\r\n   </g>\r\n   <g id=\"patch_29\">\r\n    <path clip-path=\"url(#pb4fc6709b7)\" d=\"M 234.059743 224.64 \r\nL 241.93739 224.64 \r\nL 241.93739 224.165033 \r\nL 234.059743 224.165033 \r\nz\r\n\" style=\"fill:#e1812c;\"/>\r\n   </g>\r\n   <g id=\"patch_30\">\r\n    <path clip-path=\"url(#pb4fc6709b7)\" d=\"M 253.75386 224.64 \r\nL 261.631507 224.64 \r\nL 261.631507 224.165033 \r\nL 253.75386 224.165033 \r\nz\r\n\" style=\"fill:#e1812c;\"/>\r\n   </g>\r\n   <g id=\"patch_31\">\r\n    <path clip-path=\"url(#pb4fc6709b7)\" d=\"M 273.447978 224.64 \r\nL 281.325625 224.64 \r\nL 281.325625 224.165033 \r\nL 273.447978 224.165033 \r\nz\r\n\" style=\"fill:#e1812c;\"/>\r\n   </g>\r\n   <g id=\"patch_32\">\r\n    <path clip-path=\"url(#pb4fc6709b7)\" d=\"M 293.142096 224.64 \r\nL 301.019743 224.64 \r\nL 301.019743 223.690066 \r\nL 293.142096 223.690066 \r\nz\r\n\" style=\"fill:#e1812c;\"/>\r\n   </g>\r\n   <g id=\"patch_33\">\r\n    <path clip-path=\"url(#pb4fc6709b7)\" d=\"M 312.836213 224.64 \r\nL 320.71386 224.64 \r\nL 320.71386 224.165033 \r\nL 312.836213 224.165033 \r\nz\r\n\" style=\"fill:#e1812c;\"/>\r\n   </g>\r\n   <g id=\"patch_34\">\r\n    <path clip-path=\"url(#pb4fc6709b7)\" d=\"M 0 0 \r\nz\r\n\" style=\"fill:#e1812c;\"/>\r\n   </g>\r\n   <g id=\"patch_35\">\r\n    <path clip-path=\"url(#pb4fc6709b7)\" d=\"M 352.224449 224.64 \r\nL 360.102096 224.64 \r\nL 360.102096 224.165033 \r\nL 352.224449 224.165033 \r\nz\r\n\" style=\"fill:#e1812c;\"/>\r\n   </g>\r\n   <g id=\"patch_36\">\r\n    <path clip-path=\"url(#pb4fc6709b7)\" d=\"M 0 0 \r\nz\r\n\" style=\"fill:#e1812c;\"/>\r\n   </g>\r\n   <g id=\"matplotlib.axis_1\">\r\n    <g id=\"xtick_1\">\r\n     <g id=\"line2d_1\">\r\n      <defs>\r\n       <path d=\"M 0 0 \r\nL 0 3.5 \r\n\" id=\"m44aac575f0\" style=\"stroke:#000000;stroke-width:0.8;\"/>\r\n      </defs>\r\n      <g>\r\n       <use style=\"stroke:#000000;stroke-width:0.8;\" x=\"56.812684\" xlink:href=\"#m44aac575f0\" y=\"224.64\"/>\r\n      </g>\r\n     </g>\r\n     <g id=\"text_1\">\r\n      <!-- Mr -->\r\n      <g transform=\"translate(50.443153 239.238437)scale(0.1 -0.1)\">\r\n       <defs>\r\n        <path d=\"M 9.8125 72.90625 \r\nL 24.515625 72.90625 \r\nL 43.109375 23.296875 \r\nL 61.8125 72.90625 \r\nL 76.515625 72.90625 \r\nL 76.515625 0 \r\nL 66.890625 0 \r\nL 66.890625 64.015625 \r\nL 48.09375 14.015625 \r\nL 38.1875 14.015625 \r\nL 19.390625 64.015625 \r\nL 19.390625 0 \r\nL 9.8125 0 \r\nz\r\n\" id=\"DejaVuSans-77\"/>\r\n        <path d=\"M 41.109375 46.296875 \r\nQ 39.59375 47.171875 37.8125 47.578125 \r\nQ 36.03125 48 33.890625 48 \r\nQ 26.265625 48 22.1875 43.046875 \r\nQ 18.109375 38.09375 18.109375 28.8125 \r\nL 18.109375 0 \r\nL 9.078125 0 \r\nL 9.078125 54.6875 \r\nL 18.109375 54.6875 \r\nL 18.109375 46.1875 \r\nQ 20.953125 51.171875 25.484375 53.578125 \r\nQ 30.03125 56 36.53125 56 \r\nQ 37.453125 56 38.578125 55.875 \r\nQ 39.703125 55.765625 41.0625 55.515625 \r\nz\r\n\" id=\"DejaVuSans-114\"/>\r\n       </defs>\r\n       <use xlink:href=\"#DejaVuSans-77\"/>\r\n       <use x=\"86.279297\" xlink:href=\"#DejaVuSans-114\"/>\r\n      </g>\r\n     </g>\r\n    </g>\r\n    <g id=\"xtick_2\">\r\n     <g id=\"line2d_2\">\r\n      <g>\r\n       <use style=\"stroke:#000000;stroke-width:0.8;\" x=\"76.506801\" xlink:href=\"#m44aac575f0\" y=\"224.64\"/>\r\n      </g>\r\n     </g>\r\n     <g id=\"text_2\">\r\n      <!-- Mrs -->\r\n      <g transform=\"translate(67.532583 239.238437)scale(0.1 -0.1)\">\r\n       <defs>\r\n        <path d=\"M 44.28125 53.078125 \r\nL 44.28125 44.578125 \r\nQ 40.484375 46.53125 36.375 47.5 \r\nQ 32.28125 48.484375 27.875 48.484375 \r\nQ 21.1875 48.484375 17.84375 46.4375 \r\nQ 14.5 44.390625 14.5 40.28125 \r\nQ 14.5 37.15625 16.890625 35.375 \r\nQ 19.28125 33.59375 26.515625 31.984375 \r\nL 29.59375 31.296875 \r\nQ 39.15625 29.25 43.1875 25.515625 \r\nQ 47.21875 21.78125 47.21875 15.09375 \r\nQ 47.21875 7.46875 41.1875 3.015625 \r\nQ 35.15625 -1.421875 24.609375 -1.421875 \r\nQ 20.21875 -1.421875 15.453125 -0.5625 \r\nQ 10.6875 0.296875 5.421875 2 \r\nL 5.421875 11.28125 \r\nQ 10.40625 8.6875 15.234375 7.390625 \r\nQ 20.0625 6.109375 24.8125 6.109375 \r\nQ 31.15625 6.109375 34.5625 8.28125 \r\nQ 37.984375 10.453125 37.984375 14.40625 \r\nQ 37.984375 18.0625 35.515625 20.015625 \r\nQ 33.0625 21.96875 24.703125 23.78125 \r\nL 21.578125 24.515625 \r\nQ 13.234375 26.265625 9.515625 29.90625 \r\nQ 5.8125 33.546875 5.8125 39.890625 \r\nQ 5.8125 47.609375 11.28125 51.796875 \r\nQ 16.75 56 26.8125 56 \r\nQ 31.78125 56 36.171875 55.265625 \r\nQ 40.578125 54.546875 44.28125 53.078125 \r\nz\r\n\" id=\"DejaVuSans-115\"/>\r\n       </defs>\r\n       <use xlink:href=\"#DejaVuSans-77\"/>\r\n       <use x=\"86.279297\" xlink:href=\"#DejaVuSans-114\"/>\r\n       <use x=\"127.392578\" xlink:href=\"#DejaVuSans-115\"/>\r\n      </g>\r\n     </g>\r\n    </g>\r\n    <g id=\"xtick_3\">\r\n     <g id=\"line2d_3\">\r\n      <g>\r\n       <use style=\"stroke:#000000;stroke-width:0.8;\" x=\"96.200919\" xlink:href=\"#m44aac575f0\" y=\"224.64\"/>\r\n      </g>\r\n     </g>\r\n     <g id=\"text_3\">\r\n      <!-- Miss -->\r\n      <g transform=\"translate(85.288419 239.238437)scale(0.1 -0.1)\">\r\n       <defs>\r\n        <path d=\"M 9.421875 54.6875 \r\nL 18.40625 54.6875 \r\nL 18.40625 0 \r\nL 9.421875 0 \r\nz\r\nM 9.421875 75.984375 \r\nL 18.40625 75.984375 \r\nL 18.40625 64.59375 \r\nL 9.421875 64.59375 \r\nz\r\n\" id=\"DejaVuSans-105\"/>\r\n       </defs>\r\n       <use xlink:href=\"#DejaVuSans-77\"/>\r\n       <use x=\"86.279297\" xlink:href=\"#DejaVuSans-105\"/>\r\n       <use x=\"114.0625\" xlink:href=\"#DejaVuSans-115\"/>\r\n       <use x=\"166.162109\" xlink:href=\"#DejaVuSans-115\"/>\r\n      </g>\r\n     </g>\r\n    </g>\r\n    <g id=\"xtick_4\">\r\n     <g id=\"line2d_4\">\r\n      <g>\r\n       <use style=\"stroke:#000000;stroke-width:0.8;\" x=\"115.895037\" xlink:href=\"#m44aac575f0\" y=\"224.64\"/>\r\n      </g>\r\n     </g>\r\n     <g id=\"text_4\">\r\n      <!-- Master -->\r\n      <g transform=\"translate(98.820037 239.238437)scale(0.1 -0.1)\">\r\n       <defs>\r\n        <path d=\"M 34.28125 27.484375 \r\nQ 23.390625 27.484375 19.1875 25 \r\nQ 14.984375 22.515625 14.984375 16.5 \r\nQ 14.984375 11.71875 18.140625 8.90625 \r\nQ 21.296875 6.109375 26.703125 6.109375 \r\nQ 34.1875 6.109375 38.703125 11.40625 \r\nQ 43.21875 16.703125 43.21875 25.484375 \r\nL 43.21875 27.484375 \r\nz\r\nM 52.203125 31.203125 \r\nL 52.203125 0 \r\nL 43.21875 0 \r\nL 43.21875 8.296875 \r\nQ 40.140625 3.328125 35.546875 0.953125 \r\nQ 30.953125 -1.421875 24.3125 -1.421875 \r\nQ 15.921875 -1.421875 10.953125 3.296875 \r\nQ 6 8.015625 6 15.921875 \r\nQ 6 25.140625 12.171875 29.828125 \r\nQ 18.359375 34.515625 30.609375 34.515625 \r\nL 43.21875 34.515625 \r\nL 43.21875 35.40625 \r\nQ 43.21875 41.609375 39.140625 45 \r\nQ 35.0625 48.390625 27.6875 48.390625 \r\nQ 23 48.390625 18.546875 47.265625 \r\nQ 14.109375 46.140625 10.015625 43.890625 \r\nL 10.015625 52.203125 \r\nQ 14.9375 54.109375 19.578125 55.046875 \r\nQ 24.21875 56 28.609375 56 \r\nQ 40.484375 56 46.34375 49.84375 \r\nQ 52.203125 43.703125 52.203125 31.203125 \r\nz\r\n\" id=\"DejaVuSans-97\"/>\r\n        <path d=\"M 18.3125 70.21875 \r\nL 18.3125 54.6875 \r\nL 36.8125 54.6875 \r\nL 36.8125 47.703125 \r\nL 18.3125 47.703125 \r\nL 18.3125 18.015625 \r\nQ 18.3125 11.328125 20.140625 9.421875 \r\nQ 21.96875 7.515625 27.59375 7.515625 \r\nL 36.8125 7.515625 \r\nL 36.8125 0 \r\nL 27.59375 0 \r\nQ 17.1875 0 13.234375 3.875 \r\nQ 9.28125 7.765625 9.28125 18.015625 \r\nL 9.28125 47.703125 \r\nL 2.6875 47.703125 \r\nL 2.6875 54.6875 \r\nL 9.28125 54.6875 \r\nL 9.28125 70.21875 \r\nz\r\n\" id=\"DejaVuSans-116\"/>\r\n        <path d=\"M 56.203125 29.59375 \r\nL 56.203125 25.203125 \r\nL 14.890625 25.203125 \r\nQ 15.484375 15.921875 20.484375 11.0625 \r\nQ 25.484375 6.203125 34.421875 6.203125 \r\nQ 39.59375 6.203125 44.453125 7.46875 \r\nQ 49.3125 8.734375 54.109375 11.28125 \r\nL 54.109375 2.78125 \r\nQ 49.265625 0.734375 44.1875 -0.34375 \r\nQ 39.109375 -1.421875 33.890625 -1.421875 \r\nQ 20.796875 -1.421875 13.15625 6.1875 \r\nQ 5.515625 13.8125 5.515625 26.8125 \r\nQ 5.515625 40.234375 12.765625 48.109375 \r\nQ 20.015625 56 32.328125 56 \r\nQ 43.359375 56 49.78125 48.890625 \r\nQ 56.203125 41.796875 56.203125 29.59375 \r\nz\r\nM 47.21875 32.234375 \r\nQ 47.125 39.59375 43.09375 43.984375 \r\nQ 39.0625 48.390625 32.421875 48.390625 \r\nQ 24.90625 48.390625 20.390625 44.140625 \r\nQ 15.875 39.890625 15.1875 32.171875 \r\nz\r\n\" id=\"DejaVuSans-101\"/>\r\n       </defs>\r\n       <use xlink:href=\"#DejaVuSans-77\"/>\r\n       <use x=\"86.279297\" xlink:href=\"#DejaVuSans-97\"/>\r\n       <use x=\"147.558594\" xlink:href=\"#DejaVuSans-115\"/>\r\n       <use x=\"199.658203\" xlink:href=\"#DejaVuSans-116\"/>\r\n       <use x=\"238.867188\" xlink:href=\"#DejaVuSans-101\"/>\r\n       <use x=\"300.390625\" xlink:href=\"#DejaVuSans-114\"/>\r\n      </g>\r\n     </g>\r\n    </g>\r\n    <g id=\"xtick_5\">\r\n     <g id=\"line2d_5\">\r\n      <g>\r\n       <use style=\"stroke:#000000;stroke-width:0.8;\" x=\"135.589154\" xlink:href=\"#m44aac575f0\" y=\"224.64\"/>\r\n      </g>\r\n     </g>\r\n     <g id=\"text_5\">\r\n      <!-- Don -->\r\n      <g transform=\"translate(125.511029 239.238437)scale(0.1 -0.1)\">\r\n       <defs>\r\n        <path d=\"M 19.671875 64.796875 \r\nL 19.671875 8.109375 \r\nL 31.59375 8.109375 \r\nQ 46.6875 8.109375 53.6875 14.9375 \r\nQ 60.6875 21.78125 60.6875 36.53125 \r\nQ 60.6875 51.171875 53.6875 57.984375 \r\nQ 46.6875 64.796875 31.59375 64.796875 \r\nz\r\nM 9.8125 72.90625 \r\nL 30.078125 72.90625 \r\nQ 51.265625 72.90625 61.171875 64.09375 \r\nQ 71.09375 55.28125 71.09375 36.53125 \r\nQ 71.09375 17.671875 61.125 8.828125 \r\nQ 51.171875 0 30.078125 0 \r\nL 9.8125 0 \r\nz\r\n\" id=\"DejaVuSans-68\"/>\r\n        <path d=\"M 30.609375 48.390625 \r\nQ 23.390625 48.390625 19.1875 42.75 \r\nQ 14.984375 37.109375 14.984375 27.296875 \r\nQ 14.984375 17.484375 19.15625 11.84375 \r\nQ 23.34375 6.203125 30.609375 6.203125 \r\nQ 37.796875 6.203125 41.984375 11.859375 \r\nQ 46.1875 17.53125 46.1875 27.296875 \r\nQ 46.1875 37.015625 41.984375 42.703125 \r\nQ 37.796875 48.390625 30.609375 48.390625 \r\nz\r\nM 30.609375 56 \r\nQ 42.328125 56 49.015625 48.375 \r\nQ 55.71875 40.765625 55.71875 27.296875 \r\nQ 55.71875 13.875 49.015625 6.21875 \r\nQ 42.328125 -1.421875 30.609375 -1.421875 \r\nQ 18.84375 -1.421875 12.171875 6.21875 \r\nQ 5.515625 13.875 5.515625 27.296875 \r\nQ 5.515625 40.765625 12.171875 48.375 \r\nQ 18.84375 56 30.609375 56 \r\nz\r\n\" id=\"DejaVuSans-111\"/>\r\n        <path d=\"M 54.890625 33.015625 \r\nL 54.890625 0 \r\nL 45.90625 0 \r\nL 45.90625 32.71875 \r\nQ 45.90625 40.484375 42.875 44.328125 \r\nQ 39.84375 48.1875 33.796875 48.1875 \r\nQ 26.515625 48.1875 22.3125 43.546875 \r\nQ 18.109375 38.921875 18.109375 30.90625 \r\nL 18.109375 0 \r\nL 9.078125 0 \r\nL 9.078125 54.6875 \r\nL 18.109375 54.6875 \r\nL 18.109375 46.1875 \r\nQ 21.34375 51.125 25.703125 53.5625 \r\nQ 30.078125 56 35.796875 56 \r\nQ 45.21875 56 50.046875 50.171875 \r\nQ 54.890625 44.34375 54.890625 33.015625 \r\nz\r\n\" id=\"DejaVuSans-110\"/>\r\n       </defs>\r\n       <use xlink:href=\"#DejaVuSans-68\"/>\r\n       <use x=\"77.001953\" xlink:href=\"#DejaVuSans-111\"/>\r\n       <use x=\"138.183594\" xlink:href=\"#DejaVuSans-110\"/>\r\n      </g>\r\n     </g>\r\n    </g>\r\n    <g id=\"xtick_6\">\r\n     <g id=\"line2d_6\">\r\n      <g>\r\n       <use style=\"stroke:#000000;stroke-width:0.8;\" x=\"155.283272\" xlink:href=\"#m44aac575f0\" y=\"224.64\"/>\r\n      </g>\r\n     </g>\r\n     <g id=\"text_6\">\r\n      <!-- Rev -->\r\n      <g transform=\"translate(145.998116 239.238437)scale(0.1 -0.1)\">\r\n       <defs>\r\n        <path d=\"M 44.390625 34.1875 \r\nQ 47.5625 33.109375 50.5625 29.59375 \r\nQ 53.5625 26.078125 56.59375 19.921875 \r\nL 66.609375 0 \r\nL 56 0 \r\nL 46.6875 18.703125 \r\nQ 43.0625 26.03125 39.671875 28.421875 \r\nQ 36.28125 30.8125 30.421875 30.8125 \r\nL 19.671875 30.8125 \r\nL 19.671875 0 \r\nL 9.8125 0 \r\nL 9.8125 72.90625 \r\nL 32.078125 72.90625 \r\nQ 44.578125 72.90625 50.734375 67.671875 \r\nQ 56.890625 62.453125 56.890625 51.90625 \r\nQ 56.890625 45.015625 53.6875 40.46875 \r\nQ 50.484375 35.9375 44.390625 34.1875 \r\nz\r\nM 19.671875 64.796875 \r\nL 19.671875 38.921875 \r\nL 32.078125 38.921875 \r\nQ 39.203125 38.921875 42.84375 42.21875 \r\nQ 46.484375 45.515625 46.484375 51.90625 \r\nQ 46.484375 58.296875 42.84375 61.546875 \r\nQ 39.203125 64.796875 32.078125 64.796875 \r\nz\r\n\" id=\"DejaVuSans-82\"/>\r\n        <path d=\"M 2.984375 54.6875 \r\nL 12.5 54.6875 \r\nL 29.59375 8.796875 \r\nL 46.6875 54.6875 \r\nL 56.203125 54.6875 \r\nL 35.6875 0 \r\nL 23.484375 0 \r\nz\r\n\" id=\"DejaVuSans-118\"/>\r\n       </defs>\r\n       <use xlink:href=\"#DejaVuSans-82\"/>\r\n       <use x=\"64.982422\" xlink:href=\"#DejaVuSans-101\"/>\r\n       <use x=\"126.505859\" xlink:href=\"#DejaVuSans-118\"/>\r\n      </g>\r\n     </g>\r\n    </g>\r\n    <g id=\"xtick_7\">\r\n     <g id=\"line2d_7\">\r\n      <g>\r\n       <use style=\"stroke:#000000;stroke-width:0.8;\" x=\"174.97739\" xlink:href=\"#m44aac575f0\" y=\"224.64\"/>\r\n      </g>\r\n     </g>\r\n     <g id=\"text_7\">\r\n      <!-- Dr -->\r\n      <g transform=\"translate(169.071921 239.238437)scale(0.1 -0.1)\">\r\n       <use xlink:href=\"#DejaVuSans-68\"/>\r\n       <use x=\"77.001953\" xlink:href=\"#DejaVuSans-114\"/>\r\n      </g>\r\n     </g>\r\n    </g>\r\n    <g id=\"xtick_8\">\r\n     <g id=\"line2d_8\">\r\n      <g>\r\n       <use style=\"stroke:#000000;stroke-width:0.8;\" x=\"194.671507\" xlink:href=\"#m44aac575f0\" y=\"224.64\"/>\r\n      </g>\r\n     </g>\r\n     <g id=\"text_8\">\r\n      <!-- Mme -->\r\n      <g transform=\"translate(182.41057 239.238437)scale(0.1 -0.1)\">\r\n       <defs>\r\n        <path d=\"M 52 44.1875 \r\nQ 55.375 50.25 60.0625 53.125 \r\nQ 64.75 56 71.09375 56 \r\nQ 79.640625 56 84.28125 50.015625 \r\nQ 88.921875 44.046875 88.921875 33.015625 \r\nL 88.921875 0 \r\nL 79.890625 0 \r\nL 79.890625 32.71875 \r\nQ 79.890625 40.578125 77.09375 44.375 \r\nQ 74.3125 48.1875 68.609375 48.1875 \r\nQ 61.625 48.1875 57.5625 43.546875 \r\nQ 53.515625 38.921875 53.515625 30.90625 \r\nL 53.515625 0 \r\nL 44.484375 0 \r\nL 44.484375 32.71875 \r\nQ 44.484375 40.625 41.703125 44.40625 \r\nQ 38.921875 48.1875 33.109375 48.1875 \r\nQ 26.21875 48.1875 22.15625 43.53125 \r\nQ 18.109375 38.875 18.109375 30.90625 \r\nL 18.109375 0 \r\nL 9.078125 0 \r\nL 9.078125 54.6875 \r\nL 18.109375 54.6875 \r\nL 18.109375 46.1875 \r\nQ 21.1875 51.21875 25.484375 53.609375 \r\nQ 29.78125 56 35.6875 56 \r\nQ 41.65625 56 45.828125 52.96875 \r\nQ 50 49.953125 52 44.1875 \r\nz\r\n\" id=\"DejaVuSans-109\"/>\r\n       </defs>\r\n       <use xlink:href=\"#DejaVuSans-77\"/>\r\n       <use x=\"86.279297\" xlink:href=\"#DejaVuSans-109\"/>\r\n       <use x=\"183.691406\" xlink:href=\"#DejaVuSans-101\"/>\r\n      </g>\r\n     </g>\r\n    </g>\r\n    <g id=\"xtick_9\">\r\n     <g id=\"line2d_9\">\r\n      <g>\r\n       <use style=\"stroke:#000000;stroke-width:0.8;\" x=\"214.365625\" xlink:href=\"#m44aac575f0\" y=\"224.64\"/>\r\n      </g>\r\n     </g>\r\n     <g id=\"text_9\">\r\n      <!-- Ms -->\r\n      <g transform=\"translate(207.446875 239.238437)scale(0.1 -0.1)\">\r\n       <use xlink:href=\"#DejaVuSans-77\"/>\r\n       <use x=\"86.279297\" xlink:href=\"#DejaVuSans-115\"/>\r\n      </g>\r\n     </g>\r\n    </g>\r\n    <g id=\"xtick_10\">\r\n     <g id=\"line2d_10\">\r\n      <g>\r\n       <use style=\"stroke:#000000;stroke-width:0.8;\" x=\"234.059743\" xlink:href=\"#m44aac575f0\" y=\"224.64\"/>\r\n      </g>\r\n     </g>\r\n     <g id=\"text_10\">\r\n      <!-- Major -->\r\n      <g transform=\"translate(220.177711 239.238437)scale(0.1 -0.1)\">\r\n       <defs>\r\n        <path d=\"M 9.421875 54.6875 \r\nL 18.40625 54.6875 \r\nL 18.40625 -0.984375 \r\nQ 18.40625 -11.421875 14.421875 -16.109375 \r\nQ 10.453125 -20.796875 1.609375 -20.796875 \r\nL -1.8125 -20.796875 \r\nL -1.8125 -13.1875 \r\nL 0.59375 -13.1875 \r\nQ 5.71875 -13.1875 7.5625 -10.8125 \r\nQ 9.421875 -8.453125 9.421875 -0.984375 \r\nz\r\nM 9.421875 75.984375 \r\nL 18.40625 75.984375 \r\nL 18.40625 64.59375 \r\nL 9.421875 64.59375 \r\nz\r\n\" id=\"DejaVuSans-106\"/>\r\n       </defs>\r\n       <use xlink:href=\"#DejaVuSans-77\"/>\r\n       <use x=\"86.279297\" xlink:href=\"#DejaVuSans-97\"/>\r\n       <use x=\"147.558594\" xlink:href=\"#DejaVuSans-106\"/>\r\n       <use x=\"175.341797\" xlink:href=\"#DejaVuSans-111\"/>\r\n       <use x=\"236.523438\" xlink:href=\"#DejaVuSans-114\"/>\r\n      </g>\r\n     </g>\r\n    </g>\r\n    <g id=\"xtick_11\">\r\n     <g id=\"line2d_11\">\r\n      <g>\r\n       <use style=\"stroke:#000000;stroke-width:0.8;\" x=\"253.75386\" xlink:href=\"#m44aac575f0\" y=\"224.64\"/>\r\n      </g>\r\n     </g>\r\n     <g id=\"text_11\">\r\n      <!-- Lady -->\r\n      <g transform=\"translate(241.770267 239.238437)scale(0.1 -0.1)\">\r\n       <defs>\r\n        <path d=\"M 9.8125 72.90625 \r\nL 19.671875 72.90625 \r\nL 19.671875 8.296875 \r\nL 55.171875 8.296875 \r\nL 55.171875 0 \r\nL 9.8125 0 \r\nz\r\n\" id=\"DejaVuSans-76\"/>\r\n        <path d=\"M 45.40625 46.390625 \r\nL 45.40625 75.984375 \r\nL 54.390625 75.984375 \r\nL 54.390625 0 \r\nL 45.40625 0 \r\nL 45.40625 8.203125 \r\nQ 42.578125 3.328125 38.25 0.953125 \r\nQ 33.9375 -1.421875 27.875 -1.421875 \r\nQ 17.96875 -1.421875 11.734375 6.484375 \r\nQ 5.515625 14.40625 5.515625 27.296875 \r\nQ 5.515625 40.1875 11.734375 48.09375 \r\nQ 17.96875 56 27.875 56 \r\nQ 33.9375 56 38.25 53.625 \r\nQ 42.578125 51.265625 45.40625 46.390625 \r\nz\r\nM 14.796875 27.296875 \r\nQ 14.796875 17.390625 18.875 11.75 \r\nQ 22.953125 6.109375 30.078125 6.109375 \r\nQ 37.203125 6.109375 41.296875 11.75 \r\nQ 45.40625 17.390625 45.40625 27.296875 \r\nQ 45.40625 37.203125 41.296875 42.84375 \r\nQ 37.203125 48.484375 30.078125 48.484375 \r\nQ 22.953125 48.484375 18.875 42.84375 \r\nQ 14.796875 37.203125 14.796875 27.296875 \r\nz\r\n\" id=\"DejaVuSans-100\"/>\r\n        <path d=\"M 32.171875 -5.078125 \r\nQ 28.375 -14.84375 24.75 -17.8125 \r\nQ 21.140625 -20.796875 15.09375 -20.796875 \r\nL 7.90625 -20.796875 \r\nL 7.90625 -13.28125 \r\nL 13.1875 -13.28125 \r\nQ 16.890625 -13.28125 18.9375 -11.515625 \r\nQ 21 -9.765625 23.484375 -3.21875 \r\nL 25.09375 0.875 \r\nL 2.984375 54.6875 \r\nL 12.5 54.6875 \r\nL 29.59375 11.921875 \r\nL 46.6875 54.6875 \r\nL 56.203125 54.6875 \r\nz\r\n\" id=\"DejaVuSans-121\"/>\r\n       </defs>\r\n       <use xlink:href=\"#DejaVuSans-76\"/>\r\n       <use x=\"55.712891\" xlink:href=\"#DejaVuSans-97\"/>\r\n       <use x=\"116.992188\" xlink:href=\"#DejaVuSans-100\"/>\r\n       <use x=\"180.46875\" xlink:href=\"#DejaVuSans-121\"/>\r\n      </g>\r\n     </g>\r\n    </g>\r\n    <g id=\"xtick_12\">\r\n     <g id=\"line2d_12\">\r\n      <g>\r\n       <use style=\"stroke:#000000;stroke-width:0.8;\" x=\"273.447978\" xlink:href=\"#m44aac575f0\" y=\"224.64\"/>\r\n      </g>\r\n     </g>\r\n     <g id=\"text_12\">\r\n      <!-- Sir -->\r\n      <g transform=\"translate(266.829228 239.238437)scale(0.1 -0.1)\">\r\n       <defs>\r\n        <path d=\"M 53.515625 70.515625 \r\nL 53.515625 60.890625 \r\nQ 47.90625 63.578125 42.921875 64.890625 \r\nQ 37.9375 66.21875 33.296875 66.21875 \r\nQ 25.25 66.21875 20.875 63.09375 \r\nQ 16.5 59.96875 16.5 54.203125 \r\nQ 16.5 49.359375 19.40625 46.890625 \r\nQ 22.3125 44.4375 30.421875 42.921875 \r\nL 36.375 41.703125 \r\nQ 47.40625 39.59375 52.65625 34.296875 \r\nQ 57.90625 29 57.90625 20.125 \r\nQ 57.90625 9.515625 50.796875 4.046875 \r\nQ 43.703125 -1.421875 29.984375 -1.421875 \r\nQ 24.8125 -1.421875 18.96875 -0.25 \r\nQ 13.140625 0.921875 6.890625 3.21875 \r\nL 6.890625 13.375 \r\nQ 12.890625 10.015625 18.65625 8.296875 \r\nQ 24.421875 6.59375 29.984375 6.59375 \r\nQ 38.421875 6.59375 43.015625 9.90625 \r\nQ 47.609375 13.234375 47.609375 19.390625 \r\nQ 47.609375 24.75 44.3125 27.78125 \r\nQ 41.015625 30.8125 33.5 32.328125 \r\nL 27.484375 33.5 \r\nQ 16.453125 35.6875 11.515625 40.375 \r\nQ 6.59375 45.0625 6.59375 53.421875 \r\nQ 6.59375 63.09375 13.40625 68.65625 \r\nQ 20.21875 74.21875 32.171875 74.21875 \r\nQ 37.3125 74.21875 42.625 73.28125 \r\nQ 47.953125 72.359375 53.515625 70.515625 \r\nz\r\n\" id=\"DejaVuSans-83\"/>\r\n       </defs>\r\n       <use xlink:href=\"#DejaVuSans-83\"/>\r\n       <use x=\"63.476562\" xlink:href=\"#DejaVuSans-105\"/>\r\n       <use x=\"91.259766\" xlink:href=\"#DejaVuSans-114\"/>\r\n      </g>\r\n     </g>\r\n    </g>\r\n    <g id=\"xtick_13\">\r\n     <g id=\"line2d_13\">\r\n      <g>\r\n       <use style=\"stroke:#000000;stroke-width:0.8;\" x=\"293.142096\" xlink:href=\"#m44aac575f0\" y=\"224.64\"/>\r\n      </g>\r\n     </g>\r\n     <g id=\"text_13\">\r\n      <!-- Mlle -->\r\n      <g transform=\"translate(282.973346 239.238437)scale(0.1 -0.1)\">\r\n       <defs>\r\n        <path d=\"M 9.421875 75.984375 \r\nL 18.40625 75.984375 \r\nL 18.40625 0 \r\nL 9.421875 0 \r\nz\r\n\" id=\"DejaVuSans-108\"/>\r\n       </defs>\r\n       <use xlink:href=\"#DejaVuSans-77\"/>\r\n       <use x=\"86.279297\" xlink:href=\"#DejaVuSans-108\"/>\r\n       <use x=\"114.0625\" xlink:href=\"#DejaVuSans-108\"/>\r\n       <use x=\"141.845703\" xlink:href=\"#DejaVuSans-101\"/>\r\n      </g>\r\n     </g>\r\n    </g>\r\n    <g id=\"xtick_14\">\r\n     <g id=\"line2d_14\">\r\n      <g>\r\n       <use style=\"stroke:#000000;stroke-width:0.8;\" x=\"312.836213\" xlink:href=\"#m44aac575f0\" y=\"224.64\"/>\r\n      </g>\r\n     </g>\r\n     <g id=\"text_14\">\r\n      <!-- Col -->\r\n      <g transform=\"translate(304.896369 239.238437)scale(0.1 -0.1)\">\r\n       <defs>\r\n        <path d=\"M 64.40625 67.28125 \r\nL 64.40625 56.890625 \r\nQ 59.421875 61.53125 53.78125 63.8125 \r\nQ 48.140625 66.109375 41.796875 66.109375 \r\nQ 29.296875 66.109375 22.65625 58.46875 \r\nQ 16.015625 50.828125 16.015625 36.375 \r\nQ 16.015625 21.96875 22.65625 14.328125 \r\nQ 29.296875 6.6875 41.796875 6.6875 \r\nQ 48.140625 6.6875 53.78125 8.984375 \r\nQ 59.421875 11.28125 64.40625 15.921875 \r\nL 64.40625 5.609375 \r\nQ 59.234375 2.09375 53.4375 0.328125 \r\nQ 47.65625 -1.421875 41.21875 -1.421875 \r\nQ 24.65625 -1.421875 15.125 8.703125 \r\nQ 5.609375 18.84375 5.609375 36.375 \r\nQ 5.609375 53.953125 15.125 64.078125 \r\nQ 24.65625 74.21875 41.21875 74.21875 \r\nQ 47.75 74.21875 53.53125 72.484375 \r\nQ 59.328125 70.75 64.40625 67.28125 \r\nz\r\n\" id=\"DejaVuSans-67\"/>\r\n       </defs>\r\n       <use xlink:href=\"#DejaVuSans-67\"/>\r\n       <use x=\"69.824219\" xlink:href=\"#DejaVuSans-111\"/>\r\n       <use x=\"131.005859\" xlink:href=\"#DejaVuSans-108\"/>\r\n      </g>\r\n     </g>\r\n    </g>\r\n    <g id=\"xtick_15\">\r\n     <g id=\"line2d_15\">\r\n      <g>\r\n       <use style=\"stroke:#000000;stroke-width:0.8;\" x=\"332.530331\" xlink:href=\"#m44aac575f0\" y=\"224.64\"/>\r\n      </g>\r\n     </g>\r\n     <g id=\"text_15\">\r\n      <!-- Capt -->\r\n      <g transform=\"translate(320.840487 239.238437)scale(0.1 -0.1)\">\r\n       <defs>\r\n        <path d=\"M 18.109375 8.203125 \r\nL 18.109375 -20.796875 \r\nL 9.078125 -20.796875 \r\nL 9.078125 54.6875 \r\nL 18.109375 54.6875 \r\nL 18.109375 46.390625 \r\nQ 20.953125 51.265625 25.265625 53.625 \r\nQ 29.59375 56 35.59375 56 \r\nQ 45.5625 56 51.78125 48.09375 \r\nQ 58.015625 40.1875 58.015625 27.296875 \r\nQ 58.015625 14.40625 51.78125 6.484375 \r\nQ 45.5625 -1.421875 35.59375 -1.421875 \r\nQ 29.59375 -1.421875 25.265625 0.953125 \r\nQ 20.953125 3.328125 18.109375 8.203125 \r\nz\r\nM 48.6875 27.296875 \r\nQ 48.6875 37.203125 44.609375 42.84375 \r\nQ 40.53125 48.484375 33.40625 48.484375 \r\nQ 26.265625 48.484375 22.1875 42.84375 \r\nQ 18.109375 37.203125 18.109375 27.296875 \r\nQ 18.109375 17.390625 22.1875 11.75 \r\nQ 26.265625 6.109375 33.40625 6.109375 \r\nQ 40.53125 6.109375 44.609375 11.75 \r\nQ 48.6875 17.390625 48.6875 27.296875 \r\nz\r\n\" id=\"DejaVuSans-112\"/>\r\n       </defs>\r\n       <use xlink:href=\"#DejaVuSans-67\"/>\r\n       <use x=\"69.824219\" xlink:href=\"#DejaVuSans-97\"/>\r\n       <use x=\"131.103516\" xlink:href=\"#DejaVuSans-112\"/>\r\n       <use x=\"194.580078\" xlink:href=\"#DejaVuSans-116\"/>\r\n      </g>\r\n     </g>\r\n    </g>\r\n    <g id=\"xtick_16\">\r\n     <g id=\"line2d_16\">\r\n      <g>\r\n       <use style=\"stroke:#000000;stroke-width:0.8;\" x=\"352.224449\" xlink:href=\"#m44aac575f0\" y=\"224.64\"/>\r\n      </g>\r\n     </g>\r\n     <g id=\"text_16\">\r\n      <!-- Countess -->\r\n      <g transform=\"translate(329.090074 239.238437)scale(0.1 -0.1)\">\r\n       <defs>\r\n        <path d=\"M 8.5 21.578125 \r\nL 8.5 54.6875 \r\nL 17.484375 54.6875 \r\nL 17.484375 21.921875 \r\nQ 17.484375 14.15625 20.5 10.265625 \r\nQ 23.53125 6.390625 29.59375 6.390625 \r\nQ 36.859375 6.390625 41.078125 11.03125 \r\nQ 45.3125 15.671875 45.3125 23.6875 \r\nL 45.3125 54.6875 \r\nL 54.296875 54.6875 \r\nL 54.296875 0 \r\nL 45.3125 0 \r\nL 45.3125 8.40625 \r\nQ 42.046875 3.421875 37.71875 1 \r\nQ 33.40625 -1.421875 27.6875 -1.421875 \r\nQ 18.265625 -1.421875 13.375 4.4375 \r\nQ 8.5 10.296875 8.5 21.578125 \r\nz\r\nM 31.109375 56 \r\nz\r\n\" id=\"DejaVuSans-117\"/>\r\n       </defs>\r\n       <use xlink:href=\"#DejaVuSans-67\"/>\r\n       <use x=\"69.824219\" xlink:href=\"#DejaVuSans-111\"/>\r\n       <use x=\"131.005859\" xlink:href=\"#DejaVuSans-117\"/>\r\n       <use x=\"194.384766\" xlink:href=\"#DejaVuSans-110\"/>\r\n       <use x=\"257.763672\" xlink:href=\"#DejaVuSans-116\"/>\r\n       <use x=\"296.972656\" xlink:href=\"#DejaVuSans-101\"/>\r\n       <use x=\"358.496094\" xlink:href=\"#DejaVuSans-115\"/>\r\n       <use x=\"410.595703\" xlink:href=\"#DejaVuSans-115\"/>\r\n      </g>\r\n     </g>\r\n    </g>\r\n    <g id=\"xtick_17\">\r\n     <g id=\"line2d_17\">\r\n      <g>\r\n       <use style=\"stroke:#000000;stroke-width:0.8;\" x=\"371.918566\" xlink:href=\"#m44aac575f0\" y=\"224.64\"/>\r\n      </g>\r\n     </g>\r\n     <g id=\"text_17\">\r\n      <!-- Jonkheer -->\r\n      <g transform=\"translate(349.942785 239.238437)scale(0.1 -0.1)\">\r\n       <defs>\r\n        <path d=\"M 9.8125 72.90625 \r\nL 19.671875 72.90625 \r\nL 19.671875 5.078125 \r\nQ 19.671875 -8.109375 14.671875 -14.0625 \r\nQ 9.671875 -20.015625 -1.421875 -20.015625 \r\nL -5.171875 -20.015625 \r\nL -5.171875 -11.71875 \r\nL -2.09375 -11.71875 \r\nQ 4.4375 -11.71875 7.125 -8.046875 \r\nQ 9.8125 -4.390625 9.8125 5.078125 \r\nz\r\n\" id=\"DejaVuSans-74\"/>\r\n        <path d=\"M 9.078125 75.984375 \r\nL 18.109375 75.984375 \r\nL 18.109375 31.109375 \r\nL 44.921875 54.6875 \r\nL 56.390625 54.6875 \r\nL 27.390625 29.109375 \r\nL 57.625 0 \r\nL 45.90625 0 \r\nL 18.109375 26.703125 \r\nL 18.109375 0 \r\nL 9.078125 0 \r\nz\r\n\" id=\"DejaVuSans-107\"/>\r\n        <path d=\"M 54.890625 33.015625 \r\nL 54.890625 0 \r\nL 45.90625 0 \r\nL 45.90625 32.71875 \r\nQ 45.90625 40.484375 42.875 44.328125 \r\nQ 39.84375 48.1875 33.796875 48.1875 \r\nQ 26.515625 48.1875 22.3125 43.546875 \r\nQ 18.109375 38.921875 18.109375 30.90625 \r\nL 18.109375 0 \r\nL 9.078125 0 \r\nL 9.078125 75.984375 \r\nL 18.109375 75.984375 \r\nL 18.109375 46.1875 \r\nQ 21.34375 51.125 25.703125 53.5625 \r\nQ 30.078125 56 35.796875 56 \r\nQ 45.21875 56 50.046875 50.171875 \r\nQ 54.890625 44.34375 54.890625 33.015625 \r\nz\r\n\" id=\"DejaVuSans-104\"/>\r\n       </defs>\r\n       <use xlink:href=\"#DejaVuSans-74\"/>\r\n       <use x=\"29.492188\" xlink:href=\"#DejaVuSans-111\"/>\r\n       <use x=\"90.673828\" xlink:href=\"#DejaVuSans-110\"/>\r\n       <use x=\"154.052734\" xlink:href=\"#DejaVuSans-107\"/>\r\n       <use x=\"211.962891\" xlink:href=\"#DejaVuSans-104\"/>\r\n       <use x=\"275.341797\" xlink:href=\"#DejaVuSans-101\"/>\r\n       <use x=\"336.865234\" xlink:href=\"#DejaVuSans-101\"/>\r\n       <use x=\"398.388672\" xlink:href=\"#DejaVuSans-114\"/>\r\n      </g>\r\n     </g>\r\n    </g>\r\n    <g id=\"text_18\">\r\n     <!-- Title -->\r\n     <g transform=\"translate(203.653125 252.916562)scale(0.1 -0.1)\">\r\n      <defs>\r\n       <path d=\"M -0.296875 72.90625 \r\nL 61.375 72.90625 \r\nL 61.375 64.59375 \r\nL 35.5 64.59375 \r\nL 35.5 0 \r\nL 25.59375 0 \r\nL 25.59375 64.59375 \r\nL -0.296875 64.59375 \r\nz\r\n\" id=\"DejaVuSans-84\"/>\r\n      </defs>\r\n      <use xlink:href=\"#DejaVuSans-84\"/>\r\n      <use x=\"57.958984\" xlink:href=\"#DejaVuSans-105\"/>\r\n      <use x=\"85.742188\" xlink:href=\"#DejaVuSans-116\"/>\r\n      <use x=\"124.951172\" xlink:href=\"#DejaVuSans-108\"/>\r\n      <use x=\"152.734375\" xlink:href=\"#DejaVuSans-101\"/>\r\n     </g>\r\n    </g>\r\n   </g>\r\n   <g id=\"matplotlib.axis_2\">\r\n    <g id=\"ytick_1\">\r\n     <g id=\"line2d_18\">\r\n      <defs>\r\n       <path d=\"M 0 0 \r\nL -3.5 0 \r\n\" id=\"meffa3e7b34\" style=\"stroke:#000000;stroke-width:0.8;\"/>\r\n      </defs>\r\n      <g>\r\n       <use style=\"stroke:#000000;stroke-width:0.8;\" x=\"46.965625\" xlink:href=\"#meffa3e7b34\" y=\"224.64\"/>\r\n      </g>\r\n     </g>\r\n     <g id=\"text_19\">\r\n      <!-- 0 -->\r\n      <g transform=\"translate(33.603125 228.439219)scale(0.1 -0.1)\">\r\n       <defs>\r\n        <path d=\"M 31.78125 66.40625 \r\nQ 24.171875 66.40625 20.328125 58.90625 \r\nQ 16.5 51.421875 16.5 36.375 \r\nQ 16.5 21.390625 20.328125 13.890625 \r\nQ 24.171875 6.390625 31.78125 6.390625 \r\nQ 39.453125 6.390625 43.28125 13.890625 \r\nQ 47.125 21.390625 47.125 36.375 \r\nQ 47.125 51.421875 43.28125 58.90625 \r\nQ 39.453125 66.40625 31.78125 66.40625 \r\nz\r\nM 31.78125 74.21875 \r\nQ 44.046875 74.21875 50.515625 64.515625 \r\nQ 56.984375 54.828125 56.984375 36.375 \r\nQ 56.984375 17.96875 50.515625 8.265625 \r\nQ 44.046875 -1.421875 31.78125 -1.421875 \r\nQ 19.53125 -1.421875 13.0625 8.265625 \r\nQ 6.59375 17.96875 6.59375 36.375 \r\nQ 6.59375 54.828125 13.0625 64.515625 \r\nQ 19.53125 74.21875 31.78125 74.21875 \r\nz\r\n\" id=\"DejaVuSans-48\"/>\r\n       </defs>\r\n       <use xlink:href=\"#DejaVuSans-48\"/>\r\n      </g>\r\n     </g>\r\n    </g>\r\n    <g id=\"ytick_2\">\r\n     <g id=\"line2d_19\">\r\n      <g>\r\n       <use style=\"stroke:#000000;stroke-width:0.8;\" x=\"46.965625\" xlink:href=\"#meffa3e7b34\" y=\"177.143277\"/>\r\n      </g>\r\n     </g>\r\n     <g id=\"text_20\">\r\n      <!-- 100 -->\r\n      <g transform=\"translate(20.878125 180.942495)scale(0.1 -0.1)\">\r\n       <defs>\r\n        <path d=\"M 12.40625 8.296875 \r\nL 28.515625 8.296875 \r\nL 28.515625 63.921875 \r\nL 10.984375 60.40625 \r\nL 10.984375 69.390625 \r\nL 28.421875 72.90625 \r\nL 38.28125 72.90625 \r\nL 38.28125 8.296875 \r\nL 54.390625 8.296875 \r\nL 54.390625 0 \r\nL 12.40625 0 \r\nz\r\n\" id=\"DejaVuSans-49\"/>\r\n       </defs>\r\n       <use xlink:href=\"#DejaVuSans-49\"/>\r\n       <use x=\"63.623047\" xlink:href=\"#DejaVuSans-48\"/>\r\n       <use x=\"127.246094\" xlink:href=\"#DejaVuSans-48\"/>\r\n      </g>\r\n     </g>\r\n    </g>\r\n    <g id=\"ytick_3\">\r\n     <g id=\"line2d_20\">\r\n      <g>\r\n       <use style=\"stroke:#000000;stroke-width:0.8;\" x=\"46.965625\" xlink:href=\"#meffa3e7b34\" y=\"129.646553\"/>\r\n      </g>\r\n     </g>\r\n     <g id=\"text_21\">\r\n      <!-- 200 -->\r\n      <g transform=\"translate(20.878125 133.445772)scale(0.1 -0.1)\">\r\n       <defs>\r\n        <path d=\"M 19.1875 8.296875 \r\nL 53.609375 8.296875 \r\nL 53.609375 0 \r\nL 7.328125 0 \r\nL 7.328125 8.296875 \r\nQ 12.9375 14.109375 22.625 23.890625 \r\nQ 32.328125 33.6875 34.8125 36.53125 \r\nQ 39.546875 41.84375 41.421875 45.53125 \r\nQ 43.3125 49.21875 43.3125 52.78125 \r\nQ 43.3125 58.59375 39.234375 62.25 \r\nQ 35.15625 65.921875 28.609375 65.921875 \r\nQ 23.96875 65.921875 18.8125 64.3125 \r\nQ 13.671875 62.703125 7.8125 59.421875 \r\nL 7.8125 69.390625 \r\nQ 13.765625 71.78125 18.9375 73 \r\nQ 24.125 74.21875 28.421875 74.21875 \r\nQ 39.75 74.21875 46.484375 68.546875 \r\nQ 53.21875 62.890625 53.21875 53.421875 \r\nQ 53.21875 48.921875 51.53125 44.890625 \r\nQ 49.859375 40.875 45.40625 35.40625 \r\nQ 44.1875 33.984375 37.640625 27.21875 \r\nQ 31.109375 20.453125 19.1875 8.296875 \r\nz\r\n\" id=\"DejaVuSans-50\"/>\r\n       </defs>\r\n       <use xlink:href=\"#DejaVuSans-50\"/>\r\n       <use x=\"63.623047\" xlink:href=\"#DejaVuSans-48\"/>\r\n       <use x=\"127.246094\" xlink:href=\"#DejaVuSans-48\"/>\r\n      </g>\r\n     </g>\r\n    </g>\r\n    <g id=\"ytick_4\">\r\n     <g id=\"line2d_21\">\r\n      <g>\r\n       <use style=\"stroke:#000000;stroke-width:0.8;\" x=\"46.965625\" xlink:href=\"#meffa3e7b34\" y=\"82.14983\"/>\r\n      </g>\r\n     </g>\r\n     <g id=\"text_22\">\r\n      <!-- 300 -->\r\n      <g transform=\"translate(20.878125 85.949048)scale(0.1 -0.1)\">\r\n       <defs>\r\n        <path d=\"M 40.578125 39.3125 \r\nQ 47.65625 37.796875 51.625 33 \r\nQ 55.609375 28.21875 55.609375 21.1875 \r\nQ 55.609375 10.40625 48.1875 4.484375 \r\nQ 40.765625 -1.421875 27.09375 -1.421875 \r\nQ 22.515625 -1.421875 17.65625 -0.515625 \r\nQ 12.796875 0.390625 7.625 2.203125 \r\nL 7.625 11.71875 \r\nQ 11.71875 9.328125 16.59375 8.109375 \r\nQ 21.484375 6.890625 26.8125 6.890625 \r\nQ 36.078125 6.890625 40.9375 10.546875 \r\nQ 45.796875 14.203125 45.796875 21.1875 \r\nQ 45.796875 27.640625 41.28125 31.265625 \r\nQ 36.765625 34.90625 28.71875 34.90625 \r\nL 20.21875 34.90625 \r\nL 20.21875 43.015625 \r\nL 29.109375 43.015625 \r\nQ 36.375 43.015625 40.234375 45.921875 \r\nQ 44.09375 48.828125 44.09375 54.296875 \r\nQ 44.09375 59.90625 40.109375 62.90625 \r\nQ 36.140625 65.921875 28.71875 65.921875 \r\nQ 24.65625 65.921875 20.015625 65.03125 \r\nQ 15.375 64.15625 9.8125 62.3125 \r\nL 9.8125 71.09375 \r\nQ 15.4375 72.65625 20.34375 73.4375 \r\nQ 25.25 74.21875 29.59375 74.21875 \r\nQ 40.828125 74.21875 47.359375 69.109375 \r\nQ 53.90625 64.015625 53.90625 55.328125 \r\nQ 53.90625 49.265625 50.4375 45.09375 \r\nQ 46.96875 40.921875 40.578125 39.3125 \r\nz\r\n\" id=\"DejaVuSans-51\"/>\r\n       </defs>\r\n       <use xlink:href=\"#DejaVuSans-51\"/>\r\n       <use x=\"63.623047\" xlink:href=\"#DejaVuSans-48\"/>\r\n       <use x=\"127.246094\" xlink:href=\"#DejaVuSans-48\"/>\r\n      </g>\r\n     </g>\r\n    </g>\r\n    <g id=\"ytick_5\">\r\n     <g id=\"line2d_22\">\r\n      <g>\r\n       <use style=\"stroke:#000000;stroke-width:0.8;\" x=\"46.965625\" xlink:href=\"#meffa3e7b34\" y=\"34.653106\"/>\r\n      </g>\r\n     </g>\r\n     <g id=\"text_23\">\r\n      <!-- 400 -->\r\n      <g transform=\"translate(20.878125 38.452325)scale(0.1 -0.1)\">\r\n       <defs>\r\n        <path d=\"M 37.796875 64.3125 \r\nL 12.890625 25.390625 \r\nL 37.796875 25.390625 \r\nz\r\nM 35.203125 72.90625 \r\nL 47.609375 72.90625 \r\nL 47.609375 25.390625 \r\nL 58.015625 25.390625 \r\nL 58.015625 17.1875 \r\nL 47.609375 17.1875 \r\nL 47.609375 0 \r\nL 37.796875 0 \r\nL 37.796875 17.1875 \r\nL 4.890625 17.1875 \r\nL 4.890625 26.703125 \r\nz\r\n\" id=\"DejaVuSans-52\"/>\r\n       </defs>\r\n       <use xlink:href=\"#DejaVuSans-52\"/>\r\n       <use x=\"63.623047\" xlink:href=\"#DejaVuSans-48\"/>\r\n       <use x=\"127.246094\" xlink:href=\"#DejaVuSans-48\"/>\r\n      </g>\r\n     </g>\r\n    </g>\r\n    <g id=\"text_24\">\r\n     <!-- count -->\r\n     <g transform=\"translate(14.798438 130.02625)rotate(-90)scale(0.1 -0.1)\">\r\n      <defs>\r\n       <path d=\"M 48.78125 52.59375 \r\nL 48.78125 44.1875 \r\nQ 44.96875 46.296875 41.140625 47.34375 \r\nQ 37.3125 48.390625 33.40625 48.390625 \r\nQ 24.65625 48.390625 19.8125 42.84375 \r\nQ 14.984375 37.3125 14.984375 27.296875 \r\nQ 14.984375 17.28125 19.8125 11.734375 \r\nQ 24.65625 6.203125 33.40625 6.203125 \r\nQ 37.3125 6.203125 41.140625 7.25 \r\nQ 44.96875 8.296875 48.78125 10.40625 \r\nL 48.78125 2.09375 \r\nQ 45.015625 0.34375 40.984375 -0.53125 \r\nQ 36.96875 -1.421875 32.421875 -1.421875 \r\nQ 20.0625 -1.421875 12.78125 6.34375 \r\nQ 5.515625 14.109375 5.515625 27.296875 \r\nQ 5.515625 40.671875 12.859375 48.328125 \r\nQ 20.21875 56 33.015625 56 \r\nQ 37.15625 56 41.109375 55.140625 \r\nQ 45.0625 54.296875 48.78125 52.59375 \r\nz\r\n\" id=\"DejaVuSans-99\"/>\r\n      </defs>\r\n      <use xlink:href=\"#DejaVuSans-99\"/>\r\n      <use x=\"54.980469\" xlink:href=\"#DejaVuSans-111\"/>\r\n      <use x=\"116.162109\" xlink:href=\"#DejaVuSans-117\"/>\r\n      <use x=\"179.541016\" xlink:href=\"#DejaVuSans-110\"/>\r\n      <use x=\"242.919922\" xlink:href=\"#DejaVuSans-116\"/>\r\n     </g>\r\n    </g>\r\n   </g>\r\n   <g id=\"patch_37\">\r\n    <path d=\"M 46.965625 224.64 \r\nL 46.965625 7.2 \r\n\" style=\"fill:none;stroke:#000000;stroke-linecap:square;stroke-linejoin:miter;stroke-width:0.8;\"/>\r\n   </g>\r\n   <g id=\"patch_38\">\r\n    <path d=\"M 381.765625 224.64 \r\nL 381.765625 7.2 \r\n\" style=\"fill:none;stroke:#000000;stroke-linecap:square;stroke-linejoin:miter;stroke-width:0.8;\"/>\r\n   </g>\r\n   <g id=\"patch_39\">\r\n    <path d=\"M 46.965625 224.64 \r\nL 381.765625 224.64 \r\n\" style=\"fill:none;stroke:#000000;stroke-linecap:square;stroke-linejoin:miter;stroke-width:0.8;\"/>\r\n   </g>\r\n   <g id=\"patch_40\">\r\n    <path d=\"M 46.965625 7.2 \r\nL 381.765625 7.2 \r\n\" style=\"fill:none;stroke:#000000;stroke-linecap:square;stroke-linejoin:miter;stroke-width:0.8;\"/>\r\n   </g>\r\n   <g id=\"legend_1\">\r\n    <g id=\"patch_41\">\r\n     <path d=\"M 53.965625 59.234375 \r\nL 101.879688 59.234375 \r\nQ 103.879688 59.234375 103.879688 57.234375 \r\nL 103.879688 14.2 \r\nQ 103.879688 12.2 101.879688 12.2 \r\nL 53.965625 12.2 \r\nQ 51.965625 12.2 51.965625 14.2 \r\nL 51.965625 57.234375 \r\nQ 51.965625 59.234375 53.965625 59.234375 \r\nz\r\n\" style=\"fill:#ffffff;opacity:0.8;stroke:#cccccc;stroke-linejoin:miter;\"/>\r\n    </g>\r\n    <g id=\"text_25\">\r\n     <!-- Survived -->\r\n     <g transform=\"translate(55.965625 23.798437)scale(0.1 -0.1)\">\r\n      <use xlink:href=\"#DejaVuSans-83\"/>\r\n      <use x=\"63.476562\" xlink:href=\"#DejaVuSans-117\"/>\r\n      <use x=\"126.855469\" xlink:href=\"#DejaVuSans-114\"/>\r\n      <use x=\"167.96875\" xlink:href=\"#DejaVuSans-118\"/>\r\n      <use x=\"227.148438\" xlink:href=\"#DejaVuSans-105\"/>\r\n      <use x=\"254.931641\" xlink:href=\"#DejaVuSans-118\"/>\r\n      <use x=\"314.111328\" xlink:href=\"#DejaVuSans-101\"/>\r\n      <use x=\"375.634766\" xlink:href=\"#DejaVuSans-100\"/>\r\n     </g>\r\n    </g>\r\n    <g id=\"patch_42\">\r\n     <path d=\"M 60.741406 38.476562 \r\nL 80.741406 38.476562 \r\nL 80.741406 31.476562 \r\nL 60.741406 31.476562 \r\nz\r\n\" style=\"fill:#3274a1;\"/>\r\n    </g>\r\n    <g id=\"text_26\">\r\n     <!-- 0 -->\r\n     <g transform=\"translate(88.741406 38.476562)scale(0.1 -0.1)\">\r\n      <use xlink:href=\"#DejaVuSans-48\"/>\r\n     </g>\r\n    </g>\r\n    <g id=\"patch_43\">\r\n     <path d=\"M 60.741406 53.154687 \r\nL 80.741406 53.154687 \r\nL 80.741406 46.154687 \r\nL 60.741406 46.154687 \r\nz\r\n\" style=\"fill:#e1812c;\"/>\r\n    </g>\r\n    <g id=\"text_27\">\r\n     <!-- 1 -->\r\n     <g transform=\"translate(88.741406 53.154687)scale(0.1 -0.1)\">\r\n      <use xlink:href=\"#DejaVuSans-49\"/>\r\n     </g>\r\n    </g>\r\n   </g>\r\n  </g>\r\n </g>\r\n <defs>\r\n  <clipPath id=\"pb4fc6709b7\">\r\n   <rect height=\"217.44\" width=\"334.8\" x=\"46.965625\" y=\"7.2\"/>\r\n  </clipPath>\r\n </defs>\r\n</svg>\r\n",
            "image/png": "[encoded data removed]"
          },
          "metadata": {
            "needs_background": "light"
          }
        },
        {
          "output_type": "stream",
          "name": "stdout",
          "text": [
            "Sex       female  male\nTitle                 \nCapt           0     1\nCol            0     2\nCountess       1     0\nDon            0     1\nDr             1     6\nJonkheer       0     1\nLady           1     0\nMajor          0     2\nMaster         0    40\nMiss         182     0\nMlle           2     0\nMme            1     0\nMr             0   517\nMrs          125     0\nMs             1     0\nRev            0     6\nSir            0     1\n------------------------------\n    Title  Survived\n0  Master  0.575000\n1    Miss  0.702703\n2      Mr  0.156673\n3     Mrs  0.793651\n4  Others  0.347826\n"
          ]
        }
      ],
      "source": [
        "# Name에서 Title으로 추출해서 구분한다.\n",
        "for data in total:\n",
        "    data['Title'] = data['Name'].str.extract(' ([A-Za-z]+)\\.', expand=False)\n",
        "\n",
        "# 여성과 Master라는 Title을 가진 남성이 생존율이 높다.\n",
        "sns.countplot(data=train, x='Title', hue='Survived')\n",
        "plt.show()\n",
        "print(pd.crosstab(train['Title'], train['Sex']))\n",
        "print('-'*30)\n",
        "\n",
        "# 희귀한 Title은 Others로 변환한다.\n",
        "for data in total:\n",
        "    data['Title'] = data['Title'].replace(['Lady', 'Countess', 'Capt', 'Col',\\\n",
        "        'Don', 'Dr', 'Major', 'Rev', 'Sir', 'Jonkheer', 'Dona'], 'Others')\n",
        "    data['Title'] = data['Title'].replace('Mlle', 'Miss')\n",
        "    data['Title'] = data['Title'].replace('Ms', 'Miss')\n",
        "    data['Title'] = data['Title'].replace('Mme', 'Mrs')\n",
        "\n",
        "# Title과 생존율과의 연관성을 살펴본다.\n",
        "print(train[['Title', 'Survived']].groupby(['Title'], as_index=False).mean())\n",
        "\n",
        "# Title을 카테고리형으로 변환하고 이후에 Name은 삭제한다.\n",
        "for data in total:\n",
        "    data['Title'] = data['Title'].astype('category').cat.codes\n",
        "    data.drop(['Name'], axis=1, inplace=True)"
      ]
    },
    {
      "cell_type": "code",
      "execution_count": 103,
      "metadata": {},
      "outputs": [
        {
          "output_type": "stream",
          "name": "stdout",
          "text": [
            "   Pclass       Fare\n0       1  84.154687\n1       2  20.662183\n2       3  13.675550\n"
          ]
        }
      ],
      "source": [
        "# Pclass, 즉 선실등급에 따른 Fare가 관련있음을 확인할 수 있다.\n",
        "print(train[['Fare', 'Pclass']].groupby(['Pclass'], as_index=False).mean())\n",
        "\n",
        "# Fare 결측치를 Pclass 기준으로 중간값을 채우고 분위수 기준으로 구간을 나눈다.\n",
        "for data in total:\n",
        "    data['Fare'].fillna(data.groupby('Pclass')['Fare'].transform('median'), inplace=True)\n",
        "    data['Fare'] = pd.qcut(data['Fare'], 10, labels=False)"
      ]
    },
    {
      "cell_type": "code",
      "execution_count": 104,
      "metadata": {},
      "outputs": [],
      "source": [
        "# Sex를 0과 1로 나눕니다.\n",
        "for data in total:\n",
        "    data['Sex'] = data['Sex'].map({'male': 0, 'female': 1}).astype(int)"
      ]
    },
    {
      "cell_type": "code",
      "execution_count": 105,
      "metadata": {},
      "outputs": [
        {
          "output_type": "stream",
          "name": "stdout",
          "text": [
            "   Pclass        Age\n0       1  38.233441\n1       2  29.877630\n2       3  25.140620\n------------------------------\n   Sex        Age\n0    0  30.726645\n1    1  27.915709\n------------------------------\n   Sex*Pclass        Age\n0           3  41.281386\n1           4  34.611765\n2           6  30.740707\n3           8  28.722973\n4           9  26.507589\n5          12  21.750000\n"
          ]
        }
      ],
      "source": [
        "# Age는 Pclass와 Sex와 연관이 있는 것으로 보인다.\n",
        "print(train[['Age', 'Pclass']].groupby(['Pclass'], as_index=False).mean())\n",
        "print('-'*30)\n",
        "print(train[['Age', 'Sex']].groupby(['Sex'], as_index=False).mean())\n",
        "print('-'*30)\n",
        "\n",
        "# Sex*Pclass 특성을 추가한다.\n",
        "for data in total:\n",
        "    data['Sex*Pclass'] = (data['Sex'] + 3) * data['Pclass']\n",
        "\n",
        "print(train[['Age', 'Sex*Pclass']].groupby(['Sex*Pclass'], as_index=False).mean())\n",
        "\n",
        "# Age의 결측치를 Sex*Pclass을 기준으로 중간값으로 채운다.\n",
        "for data in total:\n",
        "    data['Age'].fillna(data.groupby('Sex*Pclass')['Age'].transform('median'), inplace=True)\n",
        "\n",
        "# Sex*Pclass 특성을 제거한다.\n",
        "for data in total:\n",
        "    data.drop(['Sex*Pclass'], axis=1, inplace=True)\n",
        "\n",
        "# Age를 구간을 임의로 나눠서 분류한다.\n",
        "for data in total:\n",
        "    data['Age'] = pd.cut(data['Age'], [0, 10, 15, 20, 25, 30, 35, 40, 45, 50, 60, 100], labels=False)"
      ]
    },
    {
      "cell_type": "code",
      "execution_count": 106,
      "metadata": {},
      "outputs": [
        {
          "output_type": "stream",
          "name": "stdout",
          "text": [
            "   FamilySize  Survived\n3           4  0.724138\n2           3  0.578431\n1           2  0.552795\n6           7  0.333333\n0           1  0.303538\n4           5  0.200000\n5           6  0.136364\n7           8  0.000000\n8          11  0.000000\n"
          ]
        }
      ],
      "source": [
        "# 본인이 속한 가족구성원의 수를 FamilySize에 저장한다.\n",
        "for data in total:\n",
        "    data['FamilySize'] = data['SibSp'] + data['Parch'] + 1\n",
        "\n",
        "# 가족 구성원의 수와 생존율에 연관성을 확인한다.\n",
        "# 구성원이 2~4인 핵가족의 생존율이 높아보인다.\n",
        "print(train[['FamilySize', 'Survived']].groupby(['FamilySize'], as_index=False).mean().sort_values(by='Survived', ascending=False))\n",
        "\n",
        "# 핵가족인 경우는 1, 아니면 0이다.\n",
        "for data in total:\n",
        "    data['Nuclear'] = 0\n",
        "    data.loc[(2 <= data['FamilySize']) & (data['FamilySize'] <= 4), 'Nuclear'] = 1\n",
        "\n",
        "# FamilySize는 지운다.\n",
        "for data in total:\n",
        "    data.drop('FamilySize', axis=1, inplace=True)"
      ]
    },
    {
      "cell_type": "code",
      "execution_count": 107,
      "metadata": {},
      "outputs": [
        {
          "output_type": "stream",
          "name": "stdout",
          "text": [
            "S    644\nC    168\nQ     77\nName: Embarked, dtype: int64\n"
          ]
        }
      ],
      "source": [
        "# 출발항 결측치는 가장 많은 출발항 S로 채운다.\n",
        "print(train['Embarked'].value_counts())\n",
        "train['Embarked'].fillna(train['Embarked'].mode()[0], inplace=True)\n",
        "\n",
        "# Embarked를 카테고리 수치화한다.\n",
        "for data in total:\n",
        "    data['Embarked'] = data['Embarked'].astype('category').cat.codes"
      ]
    },
    {
      "cell_type": "code",
      "execution_count": 108,
      "metadata": {},
      "outputs": [
        {
          "output_type": "stream",
          "name": "stdout",
          "text": [
            "   Pclass  Sex  Age  SibSp  Parch  Fare  Embarked  Title  Nuclear\n",
            "0       3    0    3      1      0     0         2      2        1\n",
            "1       1    1    6      1      0     8         0      3        1\n",
            "2       3    1    4      0      0     2         2      1        0\n",
            "3       1    1    5      1      0     8         2      3        1\n",
            "4       3    0    5      0      0     2         2      2        0\n",
            "5       3    0    3      0      0     3         1      2        0\n",
            "6       1    0    9      0      0     8         2      2        0\n",
            "7       3    0    0      3      1     5         2      0        0\n",
            "8       3    1    4      0      2     4         2      3        1\n",
            "9       2    1    1      1      0     7         0      3        1\n"
          ]
        }
      ],
      "source": [
        "X_train = train.drop(['PassengerId', 'Survived'], axis=1)\n",
        "Y_train = train['Survived']\n",
        "X_test = test.drop('PassengerId', axis=1).copy()\n",
        "\n",
        "print(X_train.head(10))"
      ]
    },
    {
      "cell_type": "code",
      "execution_count": 109,
      "metadata": {},
      "outputs": [
        {
          "output_type": "execute_result",
          "data": {
            "text/plain": [
              "array([[1.  , 0.  , 0.5 , ..., 0.5 , 0.5 , 0.  ],\n",
              "       [1.  , 1.  , 0.8 , ..., 1.  , 0.75, 1.  ],\n",
              "       [0.5 , 0.  , 1.  , ..., 0.5 , 0.5 , 0.  ],\n",
              "       ...,\n",
              "       [1.  , 0.  , 0.6 , ..., 1.  , 0.5 , 0.  ],\n",
              "       [1.  , 0.  , 0.3 , ..., 1.  , 0.5 , 0.  ],\n",
              "       [1.  , 0.  , 0.3 , ..., 0.  , 0.  , 1.  ]])"
            ]
          },
          "metadata": {},
          "execution_count": 109
        }
      ],
      "source": [
        "# 최소값을 0, 최대값을 1로 만드는 스케일링을 적용한다.\n",
        "scaler = MinMaxScaler()\n",
        "scaler.fit_transform(X_train)\n",
        "scaler.fit_transform(X_test)"
      ]
    },
    {
      "cell_type": "code",
      "execution_count": 110,
      "metadata": {},
      "outputs": [],
      "source": [
        "# 교차검증을 적용한다.\n",
        "cv = KFold(n_splits=10, shuffle=True, random_state=1)"
      ]
    },
    {
      "cell_type": "code",
      "execution_count": 111,
      "metadata": {},
      "outputs": [
        {
          "output_type": "stream",
          "name": "stdout",
          "text": [
            "Fitting 10 folds for each of 216 candidates, totalling 2160 fits\n",
            "                                        params  mean_test_score  \\\n",
            "0    {'C': 0.001, 'degree': 1, 'gamma': 0.001}         0.616192   \n",
            "1     {'C': 0.001, 'degree': 1, 'gamma': 0.01}         0.616192   \n",
            "2      {'C': 0.001, 'degree': 1, 'gamma': 0.1}         0.616192   \n",
            "3        {'C': 0.001, 'degree': 1, 'gamma': 1}         0.616192   \n",
            "4       {'C': 0.001, 'degree': 1, 'gamma': 10}         0.616192   \n",
            "..                                         ...              ...   \n",
            "211     {'C': 100, 'degree': 6, 'gamma': 0.01}         0.829476   \n",
            "212      {'C': 100, 'degree': 6, 'gamma': 0.1}         0.801398   \n",
            "213        {'C': 100, 'degree': 6, 'gamma': 1}         0.782385   \n",
            "214       {'C': 100, 'degree': 6, 'gamma': 10}         0.670075   \n",
            "215      {'C': 100, 'degree': 6, 'gamma': 100}         0.670075   \n",
            "\n",
            "     rank_test_score  \n",
            "0                127  \n",
            "1                127  \n",
            "2                127  \n",
            "3                127  \n",
            "4                127  \n",
            "..               ...  \n",
            "211                7  \n",
            "212               43  \n",
            "213               55  \n",
            "214               85  \n",
            "215               85  \n",
            "\n",
            "[216 rows x 3 columns]\n",
            "SVC의 그리드서치 최고 모델: SVC(C=10, degree=1, gamma=0.01, random_state=1)\n",
            "SVC의 그리드서치 최고 파라미터: {'C': 10, 'degree': 1, 'gamma': 0.01}\n",
            "SVC의 그리츠서치 최고 정확도: 82.949\n"
          ]
        }
      ],
      "source": [
        "# SVC\n",
        "svc = SVC(random_state=1)\n",
        "parameters = {'C': [0.001, 0.01, 0.1, 1, 10, 100],\\\n",
        "              'gamma': [0.001, 0.01, 0.1, 1, 10, 100],\\\n",
        "              'degree': [1, 2, 3, 4, 5, 6]}\n",
        "grid_svc = GridSearchCV(svc, param_grid=parameters, cv=cv, n_jobs=-1, verbose=3)\n",
        "grid_svc.fit(X_train, Y_train)\n",
        "result_grid_svc = pd.DataFrame(grid_svc.cv_results_)\n",
        "print(result_grid_svc[['params', 'mean_test_score', 'rank_test_score',\\\n",
        "                           ]])\n",
        "print('SVC의 그리드서치 최고 모델: {}'.format(grid_svc.best_estimator_))\n",
        "print('SVC의 그리드서치 최고 파라미터: {}'.format(grid_svc.best_params_))\n",
        "score_grid_svc = round(grid_svc.best_score_ * 100, 3)\n",
        "print('SVC의 그리츠서치 최고 정확도: {}'.format(score_grid_svc))\n",
        "best_grid_svc = grid_svc.best_estimator_"
      ]
    },
    {
      "cell_type": "code",
      "execution_count": 112,
      "metadata": {},
      "outputs": [
        {
          "output_type": "stream",
          "name": "stdout",
          "text": [
            "Fitting 10 folds for each of 50 candidates, totalling 500 fits\n"
          ]
        },
        {
          "output_type": "error",
          "ename": "KeyboardInterrupt",
          "evalue": "",
          "traceback": [
            "\u001b[1;31m---------------------------------------------------------------------------\u001b[0m",
            "\u001b[1;31mKeyboardInterrupt\u001b[0m                         Traceback (most recent call last)",
            "\u001b[1;32m<ipython-input-112-3e75467318b2>\u001b[0m in \u001b[0;36m<module>\u001b[1;34m\u001b[0m\n\u001b[0;32m      4\u001b[0m               'learning_rate': [0.1, 0.2, 0.3, 0.4, 0.5, 0.6, 0.7, 0.8, 0.9, 1]}\n\u001b[0;32m      5\u001b[0m \u001b[0mgrid_adaboost\u001b[0m \u001b[1;33m=\u001b[0m \u001b[0mGridSearchCV\u001b[0m\u001b[1;33m(\u001b[0m\u001b[0madaboost\u001b[0m\u001b[1;33m,\u001b[0m \u001b[0mparam_grid\u001b[0m\u001b[1;33m=\u001b[0m\u001b[0mparameters\u001b[0m\u001b[1;33m,\u001b[0m \u001b[0mcv\u001b[0m\u001b[1;33m=\u001b[0m\u001b[0mcv\u001b[0m\u001b[1;33m,\u001b[0m \u001b[0mn_jobs\u001b[0m\u001b[1;33m=\u001b[0m\u001b[1;33m-\u001b[0m\u001b[1;36m1\u001b[0m\u001b[1;33m,\u001b[0m \u001b[0mverbose\u001b[0m\u001b[1;33m=\u001b[0m\u001b[1;36m3\u001b[0m\u001b[1;33m)\u001b[0m\u001b[1;33m\u001b[0m\u001b[1;33m\u001b[0m\u001b[0m\n\u001b[1;32m----> 6\u001b[1;33m \u001b[0mgrid_adaboost\u001b[0m\u001b[1;33m.\u001b[0m\u001b[0mfit\u001b[0m\u001b[1;33m(\u001b[0m\u001b[0mX_train\u001b[0m\u001b[1;33m,\u001b[0m \u001b[0mY_train\u001b[0m\u001b[1;33m)\u001b[0m\u001b[1;33m\u001b[0m\u001b[1;33m\u001b[0m\u001b[0m\n\u001b[0m\u001b[0;32m      7\u001b[0m \u001b[0mresult_grid_adaboost\u001b[0m \u001b[1;33m=\u001b[0m \u001b[0mpd\u001b[0m\u001b[1;33m.\u001b[0m\u001b[0mDataFrame\u001b[0m\u001b[1;33m(\u001b[0m\u001b[0mgrid_adaboost\u001b[0m\u001b[1;33m.\u001b[0m\u001b[0mcv_results_\u001b[0m\u001b[1;33m)\u001b[0m\u001b[1;33m\u001b[0m\u001b[1;33m\u001b[0m\u001b[0m\n\u001b[0;32m      8\u001b[0m print(result_grid_adaboost[['params', 'mean_test_score', 'rank_test_score',\\\n",
            "\u001b[1;32m~\\AppData\\Local\\Programs\\Python\\Python39\\lib\\site-packages\\sklearn\\utils\\validation.py\u001b[0m in \u001b[0;36minner_f\u001b[1;34m(*args, **kwargs)\u001b[0m\n\u001b[0;32m     61\u001b[0m             \u001b[0mextra_args\u001b[0m \u001b[1;33m=\u001b[0m \u001b[0mlen\u001b[0m\u001b[1;33m(\u001b[0m\u001b[0margs\u001b[0m\u001b[1;33m)\u001b[0m \u001b[1;33m-\u001b[0m \u001b[0mlen\u001b[0m\u001b[1;33m(\u001b[0m\u001b[0mall_args\u001b[0m\u001b[1;33m)\u001b[0m\u001b[1;33m\u001b[0m\u001b[1;33m\u001b[0m\u001b[0m\n\u001b[0;32m     62\u001b[0m             \u001b[1;32mif\u001b[0m \u001b[0mextra_args\u001b[0m \u001b[1;33m<=\u001b[0m \u001b[1;36m0\u001b[0m\u001b[1;33m:\u001b[0m\u001b[1;33m\u001b[0m\u001b[1;33m\u001b[0m\u001b[0m\n\u001b[1;32m---> 63\u001b[1;33m                 \u001b[1;32mreturn\u001b[0m \u001b[0mf\u001b[0m\u001b[1;33m(\u001b[0m\u001b[1;33m*\u001b[0m\u001b[0margs\u001b[0m\u001b[1;33m,\u001b[0m \u001b[1;33m**\u001b[0m\u001b[0mkwargs\u001b[0m\u001b[1;33m)\u001b[0m\u001b[1;33m\u001b[0m\u001b[1;33m\u001b[0m\u001b[0m\n\u001b[0m\u001b[0;32m     64\u001b[0m \u001b[1;33m\u001b[0m\u001b[0m\n\u001b[0;32m     65\u001b[0m             \u001b[1;31m# extra_args > 0\u001b[0m\u001b[1;33m\u001b[0m\u001b[1;33m\u001b[0m\u001b[1;33m\u001b[0m\u001b[0m\n",
            "\u001b[1;32m~\\AppData\\Local\\Programs\\Python\\Python39\\lib\\site-packages\\sklearn\\model_selection\\_search.py\u001b[0m in \u001b[0;36mfit\u001b[1;34m(self, X, y, groups, **fit_params)\u001b[0m\n\u001b[0;32m    839\u001b[0m                 \u001b[1;32mreturn\u001b[0m \u001b[0mresults\u001b[0m\u001b[1;33m\u001b[0m\u001b[1;33m\u001b[0m\u001b[0m\n\u001b[0;32m    840\u001b[0m \u001b[1;33m\u001b[0m\u001b[0m\n\u001b[1;32m--> 841\u001b[1;33m             \u001b[0mself\u001b[0m\u001b[1;33m.\u001b[0m\u001b[0m_run_search\u001b[0m\u001b[1;33m(\u001b[0m\u001b[0mevaluate_candidates\u001b[0m\u001b[1;33m)\u001b[0m\u001b[1;33m\u001b[0m\u001b[1;33m\u001b[0m\u001b[0m\n\u001b[0m\u001b[0;32m    842\u001b[0m \u001b[1;33m\u001b[0m\u001b[0m\n\u001b[0;32m    843\u001b[0m             \u001b[1;31m# multimetric is determined here because in the case of a callable\u001b[0m\u001b[1;33m\u001b[0m\u001b[1;33m\u001b[0m\u001b[1;33m\u001b[0m\u001b[0m\n",
            "\u001b[1;32m~\\AppData\\Local\\Programs\\Python\\Python39\\lib\\site-packages\\sklearn\\model_selection\\_search.py\u001b[0m in \u001b[0;36m_run_search\u001b[1;34m(self, evaluate_candidates)\u001b[0m\n\u001b[0;32m   1286\u001b[0m     \u001b[1;32mdef\u001b[0m \u001b[0m_run_search\u001b[0m\u001b[1;33m(\u001b[0m\u001b[0mself\u001b[0m\u001b[1;33m,\u001b[0m \u001b[0mevaluate_candidates\u001b[0m\u001b[1;33m)\u001b[0m\u001b[1;33m:\u001b[0m\u001b[1;33m\u001b[0m\u001b[1;33m\u001b[0m\u001b[0m\n\u001b[0;32m   1287\u001b[0m         \u001b[1;34m\"\"\"Search all candidates in param_grid\"\"\"\u001b[0m\u001b[1;33m\u001b[0m\u001b[1;33m\u001b[0m\u001b[0m\n\u001b[1;32m-> 1288\u001b[1;33m         \u001b[0mevaluate_candidates\u001b[0m\u001b[1;33m(\u001b[0m\u001b[0mParameterGrid\u001b[0m\u001b[1;33m(\u001b[0m\u001b[0mself\u001b[0m\u001b[1;33m.\u001b[0m\u001b[0mparam_grid\u001b[0m\u001b[1;33m)\u001b[0m\u001b[1;33m)\u001b[0m\u001b[1;33m\u001b[0m\u001b[1;33m\u001b[0m\u001b[0m\n\u001b[0m\u001b[0;32m   1289\u001b[0m \u001b[1;33m\u001b[0m\u001b[0m\n\u001b[0;32m   1290\u001b[0m \u001b[1;33m\u001b[0m\u001b[0m\n",
            "\u001b[1;32m~\\AppData\\Local\\Programs\\Python\\Python39\\lib\\site-packages\\sklearn\\model_selection\\_search.py\u001b[0m in \u001b[0;36mevaluate_candidates\u001b[1;34m(candidate_params, cv, more_results)\u001b[0m\n\u001b[0;32m    793\u001b[0m                               n_splits, n_candidates, n_candidates * n_splits))\n\u001b[0;32m    794\u001b[0m \u001b[1;33m\u001b[0m\u001b[0m\n\u001b[1;32m--> 795\u001b[1;33m                 out = parallel(delayed(_fit_and_score)(clone(base_estimator),\n\u001b[0m\u001b[0;32m    796\u001b[0m                                                        \u001b[0mX\u001b[0m\u001b[1;33m,\u001b[0m \u001b[0my\u001b[0m\u001b[1;33m,\u001b[0m\u001b[1;33m\u001b[0m\u001b[1;33m\u001b[0m\u001b[0m\n\u001b[0;32m    797\u001b[0m                                                        \u001b[0mtrain\u001b[0m\u001b[1;33m=\u001b[0m\u001b[0mtrain\u001b[0m\u001b[1;33m,\u001b[0m \u001b[0mtest\u001b[0m\u001b[1;33m=\u001b[0m\u001b[0mtest\u001b[0m\u001b[1;33m,\u001b[0m\u001b[1;33m\u001b[0m\u001b[1;33m\u001b[0m\u001b[0m\n",
            "\u001b[1;32m~\\AppData\\Local\\Programs\\Python\\Python39\\lib\\site-packages\\joblib\\parallel.py\u001b[0m in \u001b[0;36m__call__\u001b[1;34m(self, iterable)\u001b[0m\n\u001b[0;32m   1052\u001b[0m \u001b[1;33m\u001b[0m\u001b[0m\n\u001b[0;32m   1053\u001b[0m             \u001b[1;32mwith\u001b[0m \u001b[0mself\u001b[0m\u001b[1;33m.\u001b[0m\u001b[0m_backend\u001b[0m\u001b[1;33m.\u001b[0m\u001b[0mretrieval_context\u001b[0m\u001b[1;33m(\u001b[0m\u001b[1;33m)\u001b[0m\u001b[1;33m:\u001b[0m\u001b[1;33m\u001b[0m\u001b[1;33m\u001b[0m\u001b[0m\n\u001b[1;32m-> 1054\u001b[1;33m                 \u001b[0mself\u001b[0m\u001b[1;33m.\u001b[0m\u001b[0mretrieve\u001b[0m\u001b[1;33m(\u001b[0m\u001b[1;33m)\u001b[0m\u001b[1;33m\u001b[0m\u001b[1;33m\u001b[0m\u001b[0m\n\u001b[0m\u001b[0;32m   1055\u001b[0m             \u001b[1;31m# Make sure that we get a last message telling us we are done\u001b[0m\u001b[1;33m\u001b[0m\u001b[1;33m\u001b[0m\u001b[1;33m\u001b[0m\u001b[0m\n\u001b[0;32m   1056\u001b[0m             \u001b[0melapsed_time\u001b[0m \u001b[1;33m=\u001b[0m \u001b[0mtime\u001b[0m\u001b[1;33m.\u001b[0m\u001b[0mtime\u001b[0m\u001b[1;33m(\u001b[0m\u001b[1;33m)\u001b[0m \u001b[1;33m-\u001b[0m \u001b[0mself\u001b[0m\u001b[1;33m.\u001b[0m\u001b[0m_start_time\u001b[0m\u001b[1;33m\u001b[0m\u001b[1;33m\u001b[0m\u001b[0m\n",
            "\u001b[1;32m~\\AppData\\Local\\Programs\\Python\\Python39\\lib\\site-packages\\joblib\\parallel.py\u001b[0m in \u001b[0;36mretrieve\u001b[1;34m(self)\u001b[0m\n\u001b[0;32m    931\u001b[0m             \u001b[1;32mtry\u001b[0m\u001b[1;33m:\u001b[0m\u001b[1;33m\u001b[0m\u001b[1;33m\u001b[0m\u001b[0m\n\u001b[0;32m    932\u001b[0m                 \u001b[1;32mif\u001b[0m \u001b[0mgetattr\u001b[0m\u001b[1;33m(\u001b[0m\u001b[0mself\u001b[0m\u001b[1;33m.\u001b[0m\u001b[0m_backend\u001b[0m\u001b[1;33m,\u001b[0m \u001b[1;34m'supports_timeout'\u001b[0m\u001b[1;33m,\u001b[0m \u001b[1;32mFalse\u001b[0m\u001b[1;33m)\u001b[0m\u001b[1;33m:\u001b[0m\u001b[1;33m\u001b[0m\u001b[1;33m\u001b[0m\u001b[0m\n\u001b[1;32m--> 933\u001b[1;33m                     \u001b[0mself\u001b[0m\u001b[1;33m.\u001b[0m\u001b[0m_output\u001b[0m\u001b[1;33m.\u001b[0m\u001b[0mextend\u001b[0m\u001b[1;33m(\u001b[0m\u001b[0mjob\u001b[0m\u001b[1;33m.\u001b[0m\u001b[0mget\u001b[0m\u001b[1;33m(\u001b[0m\u001b[0mtimeout\u001b[0m\u001b[1;33m=\u001b[0m\u001b[0mself\u001b[0m\u001b[1;33m.\u001b[0m\u001b[0mtimeout\u001b[0m\u001b[1;33m)\u001b[0m\u001b[1;33m)\u001b[0m\u001b[1;33m\u001b[0m\u001b[1;33m\u001b[0m\u001b[0m\n\u001b[0m\u001b[0;32m    934\u001b[0m                 \u001b[1;32melse\u001b[0m\u001b[1;33m:\u001b[0m\u001b[1;33m\u001b[0m\u001b[1;33m\u001b[0m\u001b[0m\n\u001b[0;32m    935\u001b[0m                     \u001b[0mself\u001b[0m\u001b[1;33m.\u001b[0m\u001b[0m_output\u001b[0m\u001b[1;33m.\u001b[0m\u001b[0mextend\u001b[0m\u001b[1;33m(\u001b[0m\u001b[0mjob\u001b[0m\u001b[1;33m.\u001b[0m\u001b[0mget\u001b[0m\u001b[1;33m(\u001b[0m\u001b[1;33m)\u001b[0m\u001b[1;33m)\u001b[0m\u001b[1;33m\u001b[0m\u001b[1;33m\u001b[0m\u001b[0m\n",
            "\u001b[1;32m~\\AppData\\Local\\Programs\\Python\\Python39\\lib\\site-packages\\joblib\\_parallel_backends.py\u001b[0m in \u001b[0;36mwrap_future_result\u001b[1;34m(future, timeout)\u001b[0m\n\u001b[0;32m    540\u001b[0m         AsyncResults.get from multiprocessing.\"\"\"\n\u001b[0;32m    541\u001b[0m         \u001b[1;32mtry\u001b[0m\u001b[1;33m:\u001b[0m\u001b[1;33m\u001b[0m\u001b[1;33m\u001b[0m\u001b[0m\n\u001b[1;32m--> 542\u001b[1;33m             \u001b[1;32mreturn\u001b[0m \u001b[0mfuture\u001b[0m\u001b[1;33m.\u001b[0m\u001b[0mresult\u001b[0m\u001b[1;33m(\u001b[0m\u001b[0mtimeout\u001b[0m\u001b[1;33m=\u001b[0m\u001b[0mtimeout\u001b[0m\u001b[1;33m)\u001b[0m\u001b[1;33m\u001b[0m\u001b[1;33m\u001b[0m\u001b[0m\n\u001b[0m\u001b[0;32m    543\u001b[0m         \u001b[1;32mexcept\u001b[0m \u001b[0mCfTimeoutError\u001b[0m \u001b[1;32mas\u001b[0m \u001b[0me\u001b[0m\u001b[1;33m:\u001b[0m\u001b[1;33m\u001b[0m\u001b[1;33m\u001b[0m\u001b[0m\n\u001b[0;32m    544\u001b[0m             \u001b[1;32mraise\u001b[0m \u001b[0mTimeoutError\u001b[0m \u001b[1;32mfrom\u001b[0m \u001b[0me\u001b[0m\u001b[1;33m\u001b[0m\u001b[1;33m\u001b[0m\u001b[0m\n",
            "\u001b[1;32m~\\AppData\\Local\\Programs\\Python\\Python39\\lib\\concurrent\\futures\\_base.py\u001b[0m in \u001b[0;36mresult\u001b[1;34m(self, timeout)\u001b[0m\n\u001b[0;32m    433\u001b[0m                 \u001b[1;32mreturn\u001b[0m \u001b[0mself\u001b[0m\u001b[1;33m.\u001b[0m\u001b[0m__get_result\u001b[0m\u001b[1;33m(\u001b[0m\u001b[1;33m)\u001b[0m\u001b[1;33m\u001b[0m\u001b[1;33m\u001b[0m\u001b[0m\n\u001b[0;32m    434\u001b[0m \u001b[1;33m\u001b[0m\u001b[0m\n\u001b[1;32m--> 435\u001b[1;33m             \u001b[0mself\u001b[0m\u001b[1;33m.\u001b[0m\u001b[0m_condition\u001b[0m\u001b[1;33m.\u001b[0m\u001b[0mwait\u001b[0m\u001b[1;33m(\u001b[0m\u001b[0mtimeout\u001b[0m\u001b[1;33m)\u001b[0m\u001b[1;33m\u001b[0m\u001b[1;33m\u001b[0m\u001b[0m\n\u001b[0m\u001b[0;32m    436\u001b[0m \u001b[1;33m\u001b[0m\u001b[0m\n\u001b[0;32m    437\u001b[0m             \u001b[1;32mif\u001b[0m \u001b[0mself\u001b[0m\u001b[1;33m.\u001b[0m\u001b[0m_state\u001b[0m \u001b[1;32min\u001b[0m \u001b[1;33m[\u001b[0m\u001b[0mCANCELLED\u001b[0m\u001b[1;33m,\u001b[0m \u001b[0mCANCELLED_AND_NOTIFIED\u001b[0m\u001b[1;33m]\u001b[0m\u001b[1;33m:\u001b[0m\u001b[1;33m\u001b[0m\u001b[1;33m\u001b[0m\u001b[0m\n",
            "\u001b[1;32m~\\AppData\\Local\\Programs\\Python\\Python39\\lib\\threading.py\u001b[0m in \u001b[0;36mwait\u001b[1;34m(self, timeout)\u001b[0m\n\u001b[0;32m    310\u001b[0m         \u001b[1;32mtry\u001b[0m\u001b[1;33m:\u001b[0m    \u001b[1;31m# restore state no matter what (e.g., KeyboardInterrupt)\u001b[0m\u001b[1;33m\u001b[0m\u001b[1;33m\u001b[0m\u001b[0m\n\u001b[0;32m    311\u001b[0m             \u001b[1;32mif\u001b[0m \u001b[0mtimeout\u001b[0m \u001b[1;32mis\u001b[0m \u001b[1;32mNone\u001b[0m\u001b[1;33m:\u001b[0m\u001b[1;33m\u001b[0m\u001b[1;33m\u001b[0m\u001b[0m\n\u001b[1;32m--> 312\u001b[1;33m                 \u001b[0mwaiter\u001b[0m\u001b[1;33m.\u001b[0m\u001b[0macquire\u001b[0m\u001b[1;33m(\u001b[0m\u001b[1;33m)\u001b[0m\u001b[1;33m\u001b[0m\u001b[1;33m\u001b[0m\u001b[0m\n\u001b[0m\u001b[0;32m    313\u001b[0m                 \u001b[0mgotit\u001b[0m \u001b[1;33m=\u001b[0m \u001b[1;32mTrue\u001b[0m\u001b[1;33m\u001b[0m\u001b[1;33m\u001b[0m\u001b[0m\n\u001b[0;32m    314\u001b[0m             \u001b[1;32melse\u001b[0m\u001b[1;33m:\u001b[0m\u001b[1;33m\u001b[0m\u001b[1;33m\u001b[0m\u001b[0m\n",
            "\u001b[1;31mKeyboardInterrupt\u001b[0m: "
          ]
        }
      ],
      "source": [
        "# AdaBoost\n",
        "adaboost = AdaBoostClassifier(random_state=1)\n",
        "parameters = {'n_estimators': [50, 100, 150, 200],\\\n",
        "              'learning_rate': [0.0001, 0.001, 0.01]}\n",
        "grid_adaboost = GridSearchCV(adaboost, param_grid=parameters, cv=cv, n_jobs=-1, verbose=3)\n",
        "grid_adaboost.fit(X_train, Y_train)\n",
        "result_grid_adaboost = pd.DataFrame(grid_adaboost.cv_results_)\n",
        "print(result_grid_adaboost[['params', 'mean_test_score', 'rank_test_score',\\\n",
        "                           ]])\n",
        "print('AdaBoost의 그리드서치 최고 모델: {}'.format(grid_adaboost.best_estimator_))\n",
        "print('AdaBoost의 그리드서치 최고 파라미터: {}'.format(grid_adaboost.best_params_))\n",
        "score_grid_adaboost = round(grid_adaboost.best_score_ * 100, 3)\n",
        "print('AdaBoost의 그리츠서치 최고 정확도: {}'.format(score_grid_adaboost))\n",
        "best_grid_adaboost = grid_adaboost.best_estimator_"
      ]
    },
    {
      "cell_type": "code",
      "execution_count": 69,
      "metadata": {},
      "outputs": [
        {
          "output_type": "stream",
          "name": "stdout",
          "text": [
            "[20:07:11] WARNING: C:/Users/Administrator/workspace/xgboost-win64_release_1.4.0/src/learner.cc:573: \n",
            "Parameters: { \"learing_rate\", \"silent\" } might not be used.\n",
            "\n",
            "  This may not be accurate due to some parameters are only used in language bindings but\n",
            "  passed down to XGBoost core.  Or some parameters are not used but slip through this\n",
            "  verification. Please open an issue if you find above cases.\n",
            "\n",
            "\n",
            "[0]\tvalidation_0-logloss:0.58403\n",
            "[1]\tvalidation_0-logloss:0.52389\n",
            "[2]\tvalidation_0-logloss:0.48871\n",
            "[3]\tvalidation_0-logloss:0.46641\n",
            "[4]\tvalidation_0-logloss:0.45282\n",
            "[5]\tvalidation_0-logloss:0.44300\n",
            "[6]\tvalidation_0-logloss:0.43268\n",
            "[7]\tvalidation_0-logloss:0.42688\n",
            "[8]\tvalidation_0-logloss:0.41963\n",
            "[9]\tvalidation_0-logloss:0.41461\n",
            "[10]\tvalidation_0-logloss:0.41022\n",
            "[11]\tvalidation_0-logloss:0.40583\n",
            "[12]\tvalidation_0-logloss:0.40256\n",
            "[13]\tvalidation_0-logloss:0.39982\n",
            "[14]\tvalidation_0-logloss:0.39692\n",
            "[15]\tvalidation_0-logloss:0.39470\n",
            "[16]\tvalidation_0-logloss:0.39234\n",
            "[17]\tvalidation_0-logloss:0.39020\n",
            "[18]\tvalidation_0-logloss:0.38851\n",
            "[19]\tvalidation_0-logloss:0.38706\n",
            "[20]\tvalidation_0-logloss:0.38489\n",
            "[21]\tvalidation_0-logloss:0.38350\n",
            "[22]\tvalidation_0-logloss:0.38186\n",
            "[23]\tvalidation_0-logloss:0.38049\n",
            "[24]\tvalidation_0-logloss:0.37927\n",
            "[25]\tvalidation_0-logloss:0.37875\n",
            "[26]\tvalidation_0-logloss:0.37771\n",
            "[27]\tvalidation_0-logloss:0.37732\n",
            "[28]\tvalidation_0-logloss:0.37600\n",
            "[29]\tvalidation_0-logloss:0.37513\n",
            "[30]\tvalidation_0-logloss:0.37441\n",
            "[31]\tvalidation_0-logloss:0.37381\n",
            "[32]\tvalidation_0-logloss:0.37256\n",
            "[33]\tvalidation_0-logloss:0.37158\n",
            "[34]\tvalidation_0-logloss:0.37107\n",
            "[35]\tvalidation_0-logloss:0.37078\n",
            "[36]\tvalidation_0-logloss:0.37000\n",
            "[37]\tvalidation_0-logloss:0.36957\n",
            "[38]\tvalidation_0-logloss:0.36860\n",
            "[39]\tvalidation_0-logloss:0.36788\n",
            "[40]\tvalidation_0-logloss:0.36703\n",
            "[41]\tvalidation_0-logloss:0.36667\n",
            "[42]\tvalidation_0-logloss:0.36641\n",
            "[43]\tvalidation_0-logloss:0.36583\n",
            "[44]\tvalidation_0-logloss:0.36561\n",
            "[45]\tvalidation_0-logloss:0.36509\n",
            "[46]\tvalidation_0-logloss:0.36451\n",
            "[47]\tvalidation_0-logloss:0.36395\n",
            "[48]\tvalidation_0-logloss:0.36379\n",
            "[49]\tvalidation_0-logloss:0.36296\n",
            "[50]\tvalidation_0-logloss:0.36238\n",
            "[51]\tvalidation_0-logloss:0.36155\n",
            "[52]\tvalidation_0-logloss:0.36083\n",
            "[53]\tvalidation_0-logloss:0.36058\n",
            "[54]\tvalidation_0-logloss:0.36007\n",
            "[55]\tvalidation_0-logloss:0.35994\n",
            "[56]\tvalidation_0-logloss:0.35976\n",
            "[57]\tvalidation_0-logloss:0.35917\n",
            "[58]\tvalidation_0-logloss:0.35874\n",
            "[59]\tvalidation_0-logloss:0.35864\n",
            "[60]\tvalidation_0-logloss:0.35830\n",
            "[61]\tvalidation_0-logloss:0.35786\n",
            "[62]\tvalidation_0-logloss:0.35777\n",
            "[63]\tvalidation_0-logloss:0.35762\n",
            "[64]\tvalidation_0-logloss:0.35735\n",
            "[65]\tvalidation_0-logloss:0.35700\n",
            "[66]\tvalidation_0-logloss:0.35684\n",
            "[67]\tvalidation_0-logloss:0.35579\n",
            "[68]\tvalidation_0-logloss:0.35547\n",
            "[69]\tvalidation_0-logloss:0.35532\n",
            "[70]\tvalidation_0-logloss:0.35466\n",
            "[71]\tvalidation_0-logloss:0.35418\n",
            "[72]\tvalidation_0-logloss:0.35349\n",
            "[73]\tvalidation_0-logloss:0.35296\n",
            "[74]\tvalidation_0-logloss:0.35258\n",
            "[75]\tvalidation_0-logloss:0.35221\n",
            "[76]\tvalidation_0-logloss:0.35138\n",
            "[77]\tvalidation_0-logloss:0.35112\n",
            "[78]\tvalidation_0-logloss:0.35098\n",
            "[79]\tvalidation_0-logloss:0.35091\n",
            "[80]\tvalidation_0-logloss:0.35061\n",
            "[81]\tvalidation_0-logloss:0.35021\n",
            "[82]\tvalidation_0-logloss:0.35010\n",
            "[83]\tvalidation_0-logloss:0.34952\n",
            "[84]\tvalidation_0-logloss:0.34946\n",
            "[85]\tvalidation_0-logloss:0.34913\n",
            "[86]\tvalidation_0-logloss:0.34908\n",
            "[87]\tvalidation_0-logloss:0.34879\n",
            "[88]\tvalidation_0-logloss:0.34857\n",
            "[89]\tvalidation_0-logloss:0.34853\n",
            "[90]\tvalidation_0-logloss:0.34828\n",
            "[91]\tvalidation_0-logloss:0.34790\n",
            "[92]\tvalidation_0-logloss:0.34739\n",
            "[93]\tvalidation_0-logloss:0.34707\n",
            "[94]\tvalidation_0-logloss:0.34685\n",
            "[95]\tvalidation_0-logloss:0.34678\n",
            "[96]\tvalidation_0-logloss:0.34653\n",
            "[97]\tvalidation_0-logloss:0.34633\n",
            "[98]\tvalidation_0-logloss:0.34624\n",
            "[99]\tvalidation_0-logloss:0.34602\n",
            "C:\\Users\\darkzard05\\AppData\\Local\\Programs\\Python\\Python39\\lib\\site-packages\\xgboost\\sklearn.py:1146: UserWarning: The use of label encoder in XGBClassifier is deprecated and will be removed in a future release. To remove this warning, do the following: 1) Pass option use_label_encoder=False when constructing XGBClassifier object; and 2) Encode your labels (y) as integers starting with 0, i.e. 0, 1, 2, ..., [num_class - 1].\n",
            "  warnings.warn(label_encoder_deprecation_msg, UserWarning)\n",
            "                                               params  mean_test_score  \\\n",
            "0   {'learing_rate': 0.001, 'max_depth': 1, 'n_est...         0.786816   \n",
            "1   {'learing_rate': 0.001, 'max_depth': 1, 'n_est...         0.813758   \n",
            "2   {'learing_rate': 0.001, 'max_depth': 1, 'n_est...         0.826117   \n",
            "3   {'learing_rate': 0.001, 'max_depth': 1, 'n_est...         0.824981   \n",
            "4   {'learing_rate': 0.001, 'max_depth': 2, 'n_est...         0.817141   \n",
            "5   {'learing_rate': 0.001, 'max_depth': 2, 'n_est...         0.819388   \n",
            "6   {'learing_rate': 0.001, 'max_depth': 2, 'n_est...         0.827216   \n",
            "7   {'learing_rate': 0.001, 'max_depth': 2, 'n_est...         0.830587   \n",
            "8   {'learing_rate': 0.001, 'max_depth': 3, 'n_est...         0.820499   \n",
            "9   {'learing_rate': 0.001, 'max_depth': 3, 'n_est...         0.826117   \n",
            "10  {'learing_rate': 0.001, 'max_depth': 3, 'n_est...         0.816005   \n",
            "11  {'learing_rate': 0.001, 'max_depth': 3, 'n_est...         0.820449   \n",
            "12  {'learing_rate': 0.001, 'max_depth': 4, 'n_est...         0.822784   \n",
            "13  {'learing_rate': 0.001, 'max_depth': 4, 'n_est...         0.817154   \n",
            "14  {'learing_rate': 0.001, 'max_depth': 4, 'n_est...         0.816005   \n",
            "15  {'learing_rate': 0.001, 'max_depth': 4, 'n_est...         0.813733   \n",
            "16  {'learing_rate': 0.001, 'max_depth': 5, 'n_est...         0.811523   \n",
            "17  {'learing_rate': 0.001, 'max_depth': 5, 'n_est...         0.821598   \n",
            "18  {'learing_rate': 0.001, 'max_depth': 5, 'n_est...         0.809263   \n",
            "19  {'learing_rate': 0.001, 'max_depth': 5, 'n_est...         0.799164   \n",
            "20  {'learing_rate': 0.01, 'max_depth': 1, 'n_esti...         0.786816   \n",
            "21  {'learing_rate': 0.01, 'max_depth': 1, 'n_esti...         0.813758   \n",
            "22  {'learing_rate': 0.01, 'max_depth': 1, 'n_esti...         0.826117   \n",
            "23  {'learing_rate': 0.01, 'max_depth': 1, 'n_esti...         0.824981   \n",
            "24  {'learing_rate': 0.01, 'max_depth': 2, 'n_esti...         0.817141   \n",
            "25  {'learing_rate': 0.01, 'max_depth': 2, 'n_esti...         0.819388   \n",
            "26  {'learing_rate': 0.01, 'max_depth': 2, 'n_esti...         0.827216   \n",
            "27  {'learing_rate': 0.01, 'max_depth': 2, 'n_esti...         0.830587   \n",
            "28  {'learing_rate': 0.01, 'max_depth': 3, 'n_esti...         0.820499   \n",
            "29  {'learing_rate': 0.01, 'max_depth': 3, 'n_esti...         0.826117   \n",
            "30  {'learing_rate': 0.01, 'max_depth': 3, 'n_esti...         0.816005   \n",
            "31  {'learing_rate': 0.01, 'max_depth': 3, 'n_esti...         0.820449   \n",
            "32  {'learing_rate': 0.01, 'max_depth': 4, 'n_esti...         0.822784   \n",
            "33  {'learing_rate': 0.01, 'max_depth': 4, 'n_esti...         0.817154   \n",
            "34  {'learing_rate': 0.01, 'max_depth': 4, 'n_esti...         0.816005   \n",
            "35  {'learing_rate': 0.01, 'max_depth': 4, 'n_esti...         0.813733   \n",
            "36  {'learing_rate': 0.01, 'max_depth': 5, 'n_esti...         0.811523   \n",
            "37  {'learing_rate': 0.01, 'max_depth': 5, 'n_esti...         0.821598   \n",
            "38  {'learing_rate': 0.01, 'max_depth': 5, 'n_esti...         0.809263   \n",
            "39  {'learing_rate': 0.01, 'max_depth': 5, 'n_esti...         0.799164   \n",
            "40  {'learing_rate': 0.1, 'max_depth': 1, 'n_estim...         0.786816   \n",
            "41  {'learing_rate': 0.1, 'max_depth': 1, 'n_estim...         0.813758   \n",
            "42  {'learing_rate': 0.1, 'max_depth': 1, 'n_estim...         0.826117   \n",
            "43  {'learing_rate': 0.1, 'max_depth': 1, 'n_estim...         0.824981   \n",
            "44  {'learing_rate': 0.1, 'max_depth': 2, 'n_estim...         0.817141   \n",
            "45  {'learing_rate': 0.1, 'max_depth': 2, 'n_estim...         0.819388   \n",
            "46  {'learing_rate': 0.1, 'max_depth': 2, 'n_estim...         0.827216   \n",
            "47  {'learing_rate': 0.1, 'max_depth': 2, 'n_estim...         0.830587   \n",
            "48  {'learing_rate': 0.1, 'max_depth': 3, 'n_estim...         0.820499   \n",
            "49  {'learing_rate': 0.1, 'max_depth': 3, 'n_estim...         0.826117   \n",
            "50  {'learing_rate': 0.1, 'max_depth': 3, 'n_estim...         0.816005   \n",
            "51  {'learing_rate': 0.1, 'max_depth': 3, 'n_estim...         0.820449   \n",
            "52  {'learing_rate': 0.1, 'max_depth': 4, 'n_estim...         0.822784   \n",
            "53  {'learing_rate': 0.1, 'max_depth': 4, 'n_estim...         0.817154   \n",
            "54  {'learing_rate': 0.1, 'max_depth': 4, 'n_estim...         0.816005   \n",
            "55  {'learing_rate': 0.1, 'max_depth': 4, 'n_estim...         0.813733   \n",
            "56  {'learing_rate': 0.1, 'max_depth': 5, 'n_estim...         0.811523   \n",
            "57  {'learing_rate': 0.1, 'max_depth': 5, 'n_estim...         0.821598   \n",
            "58  {'learing_rate': 0.1, 'max_depth': 5, 'n_estim...         0.809263   \n",
            "59  {'learing_rate': 0.1, 'max_depth': 5, 'n_estim...         0.799164   \n",
            "\n",
            "    rank_test_score  \n",
            "0                58  \n",
            "1                43  \n",
            "2                 7  \n",
            "3                13  \n",
            "4                34  \n",
            "5                28  \n",
            "6                 4  \n",
            "7                 1  \n",
            "8                22  \n",
            "9                 7  \n",
            "10               37  \n",
            "11               25  \n",
            "12               16  \n",
            "13               31  \n",
            "14               37  \n",
            "15               46  \n",
            "16               49  \n",
            "17               19  \n",
            "18               52  \n",
            "19               55  \n",
            "20               58  \n",
            "21               43  \n",
            "22                7  \n",
            "23               13  \n",
            "24               34  \n",
            "25               28  \n",
            "26                4  \n",
            "27                1  \n",
            "28               22  \n",
            "29                7  \n",
            "30               37  \n",
            "31               25  \n",
            "32               16  \n",
            "33               31  \n",
            "34               37  \n",
            "35               46  \n",
            "36               49  \n",
            "37               19  \n",
            "38               52  \n",
            "39               55  \n",
            "40               58  \n",
            "41               43  \n",
            "42                7  \n",
            "43               13  \n",
            "44               34  \n",
            "45               28  \n",
            "46                4  \n",
            "47                1  \n",
            "48               22  \n",
            "49                7  \n",
            "50               37  \n",
            "51               25  \n",
            "52               16  \n",
            "53               31  \n",
            "54               37  \n",
            "55               46  \n",
            "56               49  \n",
            "57               19  \n",
            "58               52  \n",
            "59               55  \n",
            "XGB의 그리드서치 최고 모델: XGBClassifier(base_score=0.5, booster='gbtree', colsample_bylevel=1,\n",
            "              colsample_bynode=1, colsample_bytree=1, eval_metric='logloss',\n",
            "              gamma=0, gpu_id=-1, importance_type='gain',\n",
            "              interaction_constraints='', learing_rate=0.001,\n",
            "              learning_rate=0.300000012, max_delta_step=0, max_depth=2,\n",
            "              min_child_weight=1, missing=nan, monotone_constraints='()',\n",
            "              n_estimators=100, n_jobs=12, num_parallel_tree=1, random_state=1,\n",
            "              reg_alpha=0, reg_lambda=1, scale_pos_weight=1, silent=1,\n",
            "              subsample=1, tree_method='exact', validate_parameters=1,\n",
            "              verbosity=None)\n",
            "XGB의 그리드서치 최고 파라미터: {'learing_rate': 0.001, 'max_depth': 2, 'n_estimators': 100}\n",
            "XGB의 그리츠서치 최고 정확도: 83.059\n"
          ]
        }
      ],
      "source": [
        "# XgBoost\n",
        "xgb = XGBClassifier(objective='binary:logistic', eval_metric='logloss',\\\n",
        "                    silent=1, random_state=1)\n",
        "parameters = {'n_estimators': [20, 50, 100, 200], 'max_depth': [1, 2, 3, 4, 5],\\\n",
        "              'learing_rate': [0.0001, 0.001, 0.01]}\n",
        "grid_xgb = GridSearchCV(xgb, param_grid=parameters, cv=cv, n_jobs=-1)\n",
        "grid_xgb.fit(X_train, Y_train, early_stopping_rounds=100, eval_set= [(X_train, Y_train)])\n",
        "result_grid_xgb = pd.DataFrame(grid_xgb.cv_results_)\n",
        "print(result_grid_xgb[['params', 'mean_test_score', 'rank_test_score',\\\n",
        "                           ]])\n",
        "print('XGB의 그리드서치 최고 모델: {}'.format(grid_xgb.best_estimator_))\n",
        "print('XGB의 그리드서치 최고 파라미터: {}'.format(grid_xgb.best_params_))\n",
        "score_grid_xgb = round(grid_xgb.best_score_ * 100, 3)\n",
        "print('XGB의 그리츠서치 최고 정확도: {}'.format(score_grid_xgb))\n",
        "best_grid_xgb = grid_xgb.best_estimator_"
      ]
    },
    {
      "cell_type": "code",
      "execution_count": 70,
      "metadata": {},
      "outputs": [
        {
          "output_type": "stream",
          "name": "stdout",
          "text": [
            "Fitting 10 folds for each of 960 candidates, totalling 9600 fits\n",
            "                                                params  mean_test_score  \\\n",
            "0    {'max_depth': 2, 'max_features': 3, 'min_sampl...         0.791336   \n",
            "1    {'max_depth': 2, 'max_features': 3, 'min_sampl...         0.791323   \n",
            "2    {'max_depth': 2, 'max_features': 3, 'min_sampl...         0.792434   \n",
            "3    {'max_depth': 2, 'max_features': 3, 'min_sampl...         0.791336   \n",
            "4    {'max_depth': 2, 'max_features': 3, 'min_sampl...         0.791323   \n",
            "..                                                 ...              ...   \n",
            "955  {'max_depth': 6, 'max_features': 6, 'min_sampl...         0.830599   \n",
            "956  {'max_depth': 6, 'max_features': 6, 'min_sampl...         0.823870   \n",
            "957  {'max_depth': 6, 'max_features': 6, 'min_sampl...         0.824994   \n",
            "958  {'max_depth': 6, 'max_features': 6, 'min_sampl...         0.830599   \n",
            "959  {'max_depth': 6, 'max_features': 6, 'min_sampl...         0.823870   \n",
            "\n",
            "     rank_test_score  \n",
            "0                897  \n",
            "1                909  \n",
            "2                873  \n",
            "3                897  \n",
            "4                909  \n",
            "..               ...  \n",
            "955               85  \n",
            "956              352  \n",
            "957              278  \n",
            "958               85  \n",
            "959              352  \n",
            "\n",
            "[960 rows x 3 columns]\n",
            "랜덤 포레스트의 그리드서치 최고 모델: RandomForestClassifier(max_depth=4, max_features=4, min_samples_leaf=4,\n",
            "                       n_estimators=20, random_state=1)\n",
            "랜덤 포레스트의 그리드서치 최고 파라미터: {'max_depth': 4, 'max_features': 4, 'min_samples_leaf': 4, 'min_samples_split': 2, 'n_estimators': 20}\n",
            "랜덤 포레스트의 그리츠서치 최고 정확도: 83.844\n"
          ]
        }
      ],
      "source": [
        "# Random Forest\n",
        "random_forest = RandomForestClassifier(random_state=1)\n",
        "parameters = {'max_depth': [2, 3, 4, 5, 6], 'max_features': [3, 4, 5, 6],\\\n",
        "              'n_estimators': [10, 20, 50],\n",
        "              'min_samples_leaf': [2, 3, 4, 5],\\\n",
        "              'min_samples_split': [2, 3, 4, 5]}\n",
        "grid_random_forest = GridSearchCV(random_forest, param_grid=parameters, cv=cv, n_jobs=-1, verbose=3)\n",
        "grid_random_forest.fit(X_train, Y_train)\n",
        "result_grid_random_forest = pd.DataFrame(grid_random_forest.cv_results_)\n",
        "print(result_grid_random_forest[['params', 'mean_test_score', 'rank_test_score',\\\n",
        "                           ]])\n",
        "print('랜덤 포레스트의 그리드서치 최고 모델: {}'.format(grid_random_forest.best_estimator_))\n",
        "print('랜덤 포레스트의 그리드서치 최고 파라미터: {}'.format(grid_random_forest.best_params_))\n",
        "score_grid_random_forest = round(grid_random_forest.best_score_ * 100, 3)\n",
        "print('랜덤 포레스트의 그리드서치 최고 정확도: {}'.format(score_grid_random_forest))\n",
        "best_grid_random_forest = grid_random_forest.best_estimator_"
      ]
    },
    {
      "cell_type": "code",
      "execution_count": 71,
      "metadata": {},
      "outputs": [
        {
          "output_type": "stream",
          "name": "stdout",
          "text": [
            "Fitting 10 folds for each of 20 candidates, totalling 200 fits\n",
            "                                               params  mean_test_score  \\\n",
            "0   {'n_estimators': 4730, 'min_samples_split': 4,...         0.821610   \n",
            "1   {'n_estimators': 940, 'min_samples_split': 9, ...         0.759888   \n",
            "2   {'n_estimators': 830, 'min_samples_split': 7, ...         0.616192   \n",
            "3   {'n_estimators': 4660, 'min_samples_split': 9,...         0.785693   \n",
            "4   {'n_estimators': 1300, 'min_samples_split': 6,...         0.616192   \n",
            "5   {'n_estimators': 1720, 'min_samples_split': 4,...         0.616192   \n",
            "6   {'n_estimators': 1690, 'min_samples_split': 6,...         0.616192   \n",
            "7   {'n_estimators': 4320, 'min_samples_split': 8,...         0.820462   \n",
            "8   {'n_estimators': 4470, 'min_samples_split': 7,...         0.810362   \n",
            "9   {'n_estimators': 4790, 'min_samples_split': 9,...         0.802534   \n",
            "10  {'n_estimators': 2210, 'min_samples_split': 4,...         0.616192   \n",
            "11  {'n_estimators': 3210, 'min_samples_split': 6,...         0.784569   \n",
            "12  {'n_estimators': 4590, 'min_samples_split': 3,...         0.616192   \n",
            "13  {'n_estimators': 300, 'min_samples_split': 7, ...         0.798052   \n",
            "14  {'n_estimators': 2710, 'min_samples_split': 3,...         0.616192   \n",
            "15  {'n_estimators': 260, 'min_samples_split': 7, ...         0.616192   \n",
            "16  {'n_estimators': 2110, 'min_samples_split': 8,...         0.616192   \n",
            "17  {'n_estimators': 2000, 'min_samples_split': 6,...         0.616192   \n",
            "18  {'n_estimators': 900, 'min_samples_split': 8, ...         0.778964   \n",
            "19  {'n_estimators': 3150, 'min_samples_split': 8,...         0.616192   \n",
            "\n",
            "    rank_test_score  \n",
            "0                 1  \n",
            "1                 9  \n",
            "2                10  \n",
            "3                 6  \n",
            "4                10  \n",
            "5                10  \n",
            "6                10  \n",
            "7                 2  \n",
            "8                 3  \n",
            "9                 4  \n",
            "10               10  \n",
            "11                7  \n",
            "12               10  \n",
            "13                5  \n",
            "14               10  \n",
            "15               10  \n",
            "16               10  \n",
            "17               10  \n",
            "18                8  \n",
            "19               10  \n",
            "GBC의 랜덤서치 최고 모델: GradientBoostingClassifier(learning_rate=0.010000000000000002, max_depth=1,\n",
            "                           max_features=3, min_samples_leaf=9,\n",
            "                           min_samples_split=4, n_estimators=4730,\n",
            "                           random_state=1)\n",
            "GBC의 랜덤서치 최적 파라미터: {'n_estimators': 4730, 'min_samples_split': 4, 'min_samples_leaf': 9, 'max_features': 3, 'max_depth': 1, 'learning_rate': 0.010000000000000002}\n",
            "GBC의 랜덤서치 최고점수: 82.161\n"
          ]
        }
      ],
      "source": [
        "# Gradient Boosting Classifier\n",
        "gbc = GradientBoostingClassifier(random_state=1)\n",
        "parameters = {'learning_rate': [(0.1) ** n for n in range(10)],\\\n",
        "              'n_estimators': np.arange(10, 3000, 10),\\\n",
        "              'max_depth': np.arange(1, 10, 1),\\\n",
        "              'max_features': np.arange(1, 5, 1),\\\n",
        "              'min_samples_leaf': np.arange(1, 10, 1),\\\n",
        "              'min_samples_split': np.arange(2, 10, 1),\\\n",
        "              }\n",
        "random_gbc = RandomizedSearchCV(gbc, n_iter=20, param_distributions=parameters, cv=cv, verbose=2, n_jobs=-1, refit=True)\n",
        "random_gbc.fit(X_train, Y_train)\n",
        "result_random_gbc = pd.DataFrame(random_gbc.cv_results_)\n",
        "print(result_random_gbc[['params', 'mean_test_score', 'rank_test_score'\\\n",
        "                 ]])\n",
        "print('GBC의 랜덤서치 최고 모델: {}'.format(random_gbc.best_estimator_))\n",
        "print('GBC의 랜덤서치 최적 파라미터: {}'.format(random_gbc.best_params_))\n",
        "score_random_gbc = round(random_gbc.best_score_ * 100, 3)\n",
        "print('GBC의 랜덤서치 최고점수: {}'.format(score_random_gbc))\n",
        "best_random_gbc = random_gbc.best_estimator_"
      ]
    },
    {
      "cell_type": "code",
      "execution_count": 72,
      "metadata": {},
      "outputs": [
        {
          "output_type": "stream",
          "name": "stdout",
          "text": [
            "Fitting 10 folds for each of 20 candidates, totalling 200 fits\n",
            "                                               params  mean_test_score  \\\n",
            "0   {'solver': 'adam', 'max_iter': 680, 'batch_siz...         0.810362   \n",
            "1   {'solver': 'sgd', 'max_iter': 480, 'batch_size...         0.810412   \n",
            "2   {'solver': 'sgd', 'max_iter': 230, 'batch_size...         0.807029   \n",
            "3   {'solver': 'adam', 'max_iter': 200, 'batch_siz...         0.809251   \n",
            "4   {'solver': 'adam', 'max_iter': 810, 'batch_siz...         0.810400   \n",
            "5   {'solver': 'adam', 'max_iter': 820, 'batch_siz...         0.813733   \n",
            "6   {'solver': 'adam', 'max_iter': 460, 'batch_siz...         0.812647   \n",
            "7   {'solver': 'adam', 'max_iter': 860, 'batch_siz...         0.812672   \n",
            "8   {'solver': 'sgd', 'max_iter': 290, 'batch_size...         0.809313   \n",
            "9   {'solver': 'sgd', 'max_iter': 230, 'batch_size...         0.817129   \n",
            "10  {'solver': 'adam', 'max_iter': 90, 'batch_size...         0.814856   \n",
            "11  {'solver': 'sgd', 'max_iter': 980, 'batch_size...         0.802522   \n",
            "12  {'solver': 'adam', 'max_iter': 150, 'batch_siz...         0.808165   \n",
            "13  {'solver': 'adam', 'max_iter': 990, 'batch_siz...         0.811498   \n",
            "14  {'solver': 'sgd', 'max_iter': 720, 'batch_size...         0.811523   \n",
            "15  {'solver': 'sgd', 'max_iter': 980, 'batch_size...         0.616192   \n",
            "16  {'solver': 'adam', 'max_iter': 740, 'batch_siz...         0.819351   \n",
            "17  {'solver': 'sgd', 'max_iter': 890, 'batch_size...         0.814919   \n",
            "18  {'solver': 'adam', 'max_iter': 360, 'batch_siz...         0.803670   \n",
            "19  {'solver': 'sgd', 'max_iter': 460, 'batch_size...         0.616192   \n",
            "\n",
            "    rank_test_score  \n",
            "0                12  \n",
            "1                10  \n",
            "2                16  \n",
            "3                14  \n",
            "4                11  \n",
            "5                 5  \n",
            "6                 7  \n",
            "7                 6  \n",
            "8                13  \n",
            "9                 2  \n",
            "10                4  \n",
            "11               18  \n",
            "12               15  \n",
            "13                9  \n",
            "14                8  \n",
            "15               19  \n",
            "16                1  \n",
            "17                3  \n",
            "18               17  \n",
            "19               19  \n",
            "MLP의 랜덤서치 최고 성능 모델: MLPClassifier(alpha=1.0000000000000004e-07, batch_size=9,\n",
            "              hidden_layer_sizes=100, max_iter=740)\n",
            "MLP의 랜덤서치 최적 파라미터: {'solver': 'adam', 'max_iter': 740, 'batch_size': 9, 'alpha': 1.0000000000000004e-07, 'activation': 'relu'}\n",
            "MLP의 랜덤서치 최고점수: 81.935\n"
          ]
        }
      ],
      "source": [
        "# Multilayer Perceptron\n",
        "mlp = MLPClassifier(hidden_layer_sizes=(100))\n",
        "parameters = {'alpha': [(0.1) ** n for n in range(10)],\\\n",
        "               'solver': ['sgd', 'adam'],\\\n",
        "               'activation': ['tanh', 'relu', 'logistic'],\\\n",
        "               'max_iter': np.arange(10, 1000, 10),\\\n",
        "               'batch_size': np.arange(1, 10, 1)}\n",
        "random_mlp = RandomizedSearchCV(mlp, param_distributions=parameters, random_state=1,\\\n",
        "                                n_iter=20, n_jobs=-1, cv=cv, verbose=3)\n",
        "random_mlp.fit(X_train, Y_train)\n",
        "result_random_mlp = pd.DataFrame(random_mlp.cv_results_)\n",
        "print(result_random_mlp[['params', 'mean_test_score', 'rank_test_score'\\\n",
        "                        ]])\n",
        "print('MLP의 랜덤서치 최고 성능 모델: {}'.format(random_mlp.best_estimator_))\n",
        "print('MLP의 랜덤서치 최적 파라미터: {}'.format(random_mlp.best_params_))\n",
        "score_random_mlp = round(random_mlp.best_score_ * 100, 3)\n",
        "print('MLP의 랜덤서치 최고점수: {}'.format(score_random_mlp))\n",
        "best_random_mlp = random_mlp.best_estimator_"
      ]
    },
    {
      "cell_type": "code",
      "metadata": {},
      "source": [
        "# Perceptron\n",
        "perceptron = Perceptron(random_state=1)\n",
        "perceptron.fit(X_train, Y_train)\n",
        "score_perceptron = round(cross_val_score(perceptron, X_train, Y_train, cv=cv).mean() * 100, 3)\n",
        "print('Perceptron의 교차 검증 점수 : {}.'.format(score_perceptron))\n",
        "\n",
        "# GaussianNB\n",
        "gnb = GaussianNB()\n",
        "gnb.fit(X_train, Y_train)\n",
        "score_gnb = round(cross_val_score(gnb, X_train, Y_train, cv=cv).mean() * 100, 3)\n",
        "print('GaussainNB의 교차 검증 점수 : {}'.format(score_gnb))\n",
        "\n",
        "# Logistic Regression\n",
        "logreg = LogisticRegression(max_iter=2000, random_state=1)\n",
        "logreg.fit(X_train, Y_train)\n",
        "score_logreg = round(cross_val_score(logreg, X_train, Y_train, cv=cv).mean() * 100, 3)\n",
        "print('로지스틱회귀의 교차 검증 점수 : {}'.format(score_logreg))\n",
        "\n",
        "# Linear SVC\n",
        "linear_svc = LinearSVC(max_iter=10000, random_state=1)\n",
        "linear_svc.fit(X_train, Y_train)\n",
        "score_linear_svc = round(cross_val_score(linear_svc, X_train, Y_train, cv=cv).mean() * 100, 3)\n",
        "print('LinearSVC의 교차 검증 점수 : {}'.format(score_linear_svc))\n",
        "\n",
        "# K-Neighbors Classfier\n",
        "knn = KNeighborsClassifier()\n",
        "knn.fit(X_train, Y_train)\n",
        "score_knn = round(cross_val_score(knn, X_train, Y_train, cv=cv).mean() * 100, 3)\n",
        "print('KNN의 교차 검증 점수 : {}'.format(score_knn))\n",
        "\n",
        "# Decision Tree\n",
        "decision_tree = DecisionTreeClassifier(random_state=1)\n",
        "decision_tree.fit(X_train, Y_train)\n",
        "score_decision_tree = round(cross_val_score(decision_tree, X_train, Y_train, cv=cv).mean() * 100, 3)\n",
        "print('결정트리의 교차 검증 점수 : {}'.format(score_decision_tree))\n",
        "\n",
        "# Stochastic Gradient Decent\n",
        "sgd = SGDClassifier(random_state=1)\n",
        "sgd.fit(X_train, Y_train)\n",
        "score_sgd = round(cross_val_score(sgd, X_train, Y_train, cv=cv).mean() * 100, 3)\n",
        "print('SGD의 교차 검증 점수 : {}'.format(score_sgd))\n",
        "\n"
      ],
      "outputs": [
        {
          "output_type": "stream",
          "name": "stdout",
          "text": [
            "Perceptron의 교차 검증 점수 : 76.099.\n",
            "GaussainNB의 교차 검증 점수 : 78.12\n",
            "로지스틱회귀의 교차 검증 점수 : 81.036\n",
            "LinearSVC의 교차 검증 점수 : 80.365\n",
            "KNN의 교차 검증 점수 : 78.793\n",
            "결정트리의 교차 검증 점수 : 77.898\n",
            "SGD의 교차 검증 점수 : 73.074\n"
          ]
        }
      ],
      "execution_count": 73
    },
    {
      "cell_type": "code",
      "execution_count": 74,
      "metadata": {},
      "outputs": [
        {
          "output_type": "stream",
          "name": "stdout",
          "text": [
            "                           Model   Score\n0                  Random Forest  83.844\n1                            XGB  83.059\n2                            SVC  82.949\n3                       AdaBoost  82.836\n4   Gradient Boosting Classifier  82.161\n5                            MLP  81.935\n6            Logistic Regression  81.036\n7                     Linear SVC  80.365\n8                            KNN  78.793\n9                     GaussianNB  78.120\n10                 Decision Tree  77.898\n11                    Perceptron  76.099\n12    Stochastic Gradient Decent  73.074\n교차 검증 점수가 가장 높은 모델은 Random Forest이고 점수는 83.844이다\n"
          ]
        }
      ],
      "source": [
        "# 머신러닝 모델 중에 가장 높은 교차검증 점수를 갖는 모델을 선택한다.\n",
        "models = pd.DataFrame([['Perceptron', score_perceptron, perceptron],\\\n",
        "                      ['GaussianNB', score_gnb, gnb], ['KNN', score_knn, knn],\\\n",
        "                      ['Random Forest', score_grid_random_forest,\\\n",
        "                        best_grid_random_forest],\\\n",
        "                      ['Decision Tree', score_decision_tree, decision_tree],\\\n",
        "                      ['Gradient Boosting Classifier', score_random_gbc,\\\n",
        "                        best_random_gbc],\\\n",
        "                      ['MLP', score_random_mlp, best_random_mlp],\\\n",
        "                      ['Linear SVC', score_linear_svc, linear_svc],\\\n",
        "                      ['Stochastic Gradient Decent', score_sgd, sgd],\\\n",
        "                      ['Logistic Regression', score_logreg, logreg],\\\n",
        "                      ['SVC', score_grid_svc, best_grid_svc],\\\n",
        "                      ['AdaBoost', score_grid_adaboost, best_grid_adaboost],\\\n",
        "                      ['XGB', score_grid_xgb, best_grid_xgb]],\\\n",
        "                    columns=['Model', 'Score', 'Estimator'])\n",
        "sorted_models = models.sort_values(by=['Score'], axis=0, ascending=False, ignore_index=True).loc[:,['Model','Score']]\n",
        "best_estimator = models.sort_values(by=['Score'], axis=0, ascending=False, ignore_index=True).loc[:,['Estimator','Score']]\n",
        "print(sorted_models)\n",
        "print('-' * 40)\n",
        "print('교차 검증 점수가 가장 높은 모델은 {}이고 점수는 {}이다'.format(sorted_models.iloc[0, 0], sorted_models.iloc[0, 1]))\n",
        "Y_pred = best_estimator.iloc[0, 0].predict(X_test)"
      ]
    },
    {
      "cell_type": "code",
      "execution_count": 75,
      "metadata": {},
      "outputs": [],
      "source": [
        "# 결과를 CSV로 저장한다.\n",
        "submission = pd.DataFrame({'PassengerId': test['PassengerId'], 'Survived': Y_pred})\n",
        "submission.to_csv('C:/python/titanic/submission.csv', index=False)"
      ]
    }
  ],
  "metadata": {
    "anaconda-cloud": {},
    "kernelspec": {
      "name": "python391jvsc74a57bd069a05e2619f02e99a0b2b4f3c39701648974662958e265e04f3fa16752e75602",
      "display_name": "Python 3.9.1 64-bit"
    },
    "language_info": {
      "codemirror_mode": {
        "name": "ipython",
        "version": 3
      },
      "file_extension": ".py",
      "mimetype": "text/x-python",
      "name": "python",
      "nbconvert_exporter": "python",
      "pygments_lexer": "ipython3",
      "version": "3.9.1"
    },
    "metadata": {
      "interpreter": {
        "hash": "69a05e2619f02e99a0b2b4f3c39701648974662958e265e04f3fa16752e75602"
      }
    }
  },
  "nbformat": 4,
  "nbformat_minor": 4
}